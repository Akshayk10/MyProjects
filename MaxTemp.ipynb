{
  "nbformat": 4,
  "nbformat_minor": 0,
  "metadata": {
    "colab": {
      "provenance": []
    },
    "kernelspec": {
      "name": "python3",
      "display_name": "Python 3"
    },
    "language_info": {
      "name": "python"
    }
  },
  "cells": [
    {
      "cell_type": "code",
      "execution_count": null,
      "metadata": {
        "id": "wX9CZX0qCswR"
      },
      "outputs": [],
      "source": [
        "#install kaggle\n",
        "!pip install -q kaggle"
      ]
    },
    {
      "cell_type": "code",
      "source": [
        "from google.colab import files\n",
        "files.upload()"
      ],
      "metadata": {
        "colab": {
          "resources": {
            "http://localhost:8080/nbextensions/google.colab/files.js": {
              "data": "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",
              "ok": true,
              "headers": [
                [
                  "content-type",
                  "application/javascript"
                ]
              ],
              "status": 200,
              "status_text": ""
            }
          },
          "base_uri": "https://localhost:8080/",
          "height": 91
        },
        "id": "T9Fh-oQhDefD",
        "outputId": "53b7c365-d0de-4bce-fd77-0f7d70d79136"
      },
      "execution_count": null,
      "outputs": [
        {
          "output_type": "display_data",
          "data": {
            "text/html": [
              "\n",
              "     <input type=\"file\" id=\"files-42f16f2b-4f1f-441a-b209-5ff8d30c4efd\" name=\"files[]\" multiple disabled\n",
              "        style=\"border:none\" />\n",
              "     <output id=\"result-42f16f2b-4f1f-441a-b209-5ff8d30c4efd\">\n",
              "      Upload widget is only available when the cell has been executed in the\n",
              "      current browser session. Please rerun this cell to enable.\n",
              "      </output>\n",
              "      <script src=\"/nbextensions/google.colab/files.js\"></script> "
            ],
            "text/plain": [
              "<IPython.core.display.HTML object>"
            ]
          },
          "metadata": {}
        },
        {
          "output_type": "stream",
          "name": "stdout",
          "text": [
            "Saving kaggle.json to kaggle.json\n"
          ]
        },
        {
          "output_type": "execute_result",
          "data": {
            "text/plain": [
              "{'kaggle.json': b'{\"username\":\"akshay142003\",\"key\":\"251516f8a3d14c1c30a1d82e459a1aee\"}'}"
            ]
          },
          "metadata": {},
          "execution_count": 2
        }
      ]
    },
    {
      "cell_type": "code",
      "source": [
        "#create a kaggle folder\n",
        "! mkdir ~/.kaggle"
      ],
      "metadata": {
        "id": "I5R5wZXbEGdy"
      },
      "execution_count": null,
      "outputs": []
    },
    {
      "cell_type": "code",
      "source": [
        "#copy the kaggle.json file to created folder\n",
        "! cp kaggle.json ~/.kaggle/"
      ],
      "metadata": {
        "id": "iE66RgreEgM1"
      },
      "execution_count": null,
      "outputs": []
    },
    {
      "cell_type": "code",
      "source": [
        "#permission for json to act\n",
        "! chmod 600 ~/.kaggle/kaggle.json"
      ],
      "metadata": {
        "id": "CqPM5k2DFIWq"
      },
      "execution_count": null,
      "outputs": []
    },
    {
      "cell_type": "code",
      "source": [
        "#to list all datasets in kaggle\n",
        "! kaggle datasets list"
      ],
      "metadata": {
        "colab": {
          "base_uri": "https://localhost:8080/"
        },
        "id": "rom28tq7Fb_-",
        "outputId": "5b9c1269-a36a-4e35-ef0f-41acce349613"
      },
      "execution_count": null,
      "outputs": [
        {
          "output_type": "stream",
          "name": "stdout",
          "text": [
            "Warning: Looks like you're using an outdated API Version, please consider updating (server 1.5.12 / client 1.5.4)\n",
            "ref                                                         title                                             size  lastUpdated          downloadCount  \n",
            "----------------------------------------------------------  -----------------------------------------------  -----  -------------------  -------------  \n",
            "nkitgupta/jigsaw-regression-based-data                      Jigsaw Regression Based Data                       3GB  2022-02-05 20:51:56            845  \n",
            "prasertk/netflix-subscription-price-in-different-countries  Netflix subscription fee in different countries    3KB  2022-01-15 07:06:09           2427  \n",
            "yasserh/wine-quality-dataset                                Wine Quality Dataset                              21KB  2022-01-15 19:15:11           2140  \n",
            "sanjeetsinghnaik/top-1000-highest-grossing-movies           Top 1000 Highest Grossing Movies                 106KB  2022-01-15 16:26:14           1568  \n",
            "iamsouravbanerjee/analytics-industry-salaries-2022-india    Data Professionals Salary - 2022                  57KB  2022-02-04 09:04:46           2602  \n",
            "majyhain/height-of-male-and-female-by-country-2022          Height of Male and Female by Country 2022          4KB  2022-02-02 00:40:19            557  \n",
            "majyhain/top-100-cryptocurrency-2022                        Top 100 Cryptocurrency 2022                        4KB  2022-01-31 09:23:53            365  \n",
            "kenjee/ken-jee-youtube-data                                 Ken Jee YouTube Data                               6MB  2022-01-22 20:38:53            160  \n",
            "yamqwe/netflix-showse                                       Netflix Shows                                     11KB  2022-02-08 15:33:37           1409  \n",
            "meetnagadia/netflix-stock-price-data-set-20022022           Netflix Stock Price Data set 2002-2022            94KB  2022-01-12 05:28:11            914  \n",
            "dansbecker/melbourne-housing-snapshot                       Melbourne Housing Snapshot                       451KB  2018-06-05 12:52:24          80202  \n",
            "datasnaek/youtube-new                                       Trending YouTube Video Statistics                201MB  2019-06-03 00:56:47         165162  \n",
            "vivovinco/nba-player-stats                                  2021-2022 NBA Player Stats                        29KB  2022-01-22 14:53:22            505  \n",
            "maricinnamon/harry-potter-movies-dataset                    Harry Potter Movies Dataset                      211KB  2022-01-14 10:13:19            419  \n",
            "zynicide/wine-reviews                                       Wine Reviews                                      51MB  2017-11-27 17:08:04         153838  \n",
            "datasnaek/chess                                             Chess Game Dataset (Lichess)                       3MB  2017-09-04 03:09:09          27504  \n",
            "residentmario/ramen-ratings                                 Ramen Ratings                                     40KB  2018-01-11 16:04:39          32328  \n",
            "rtatman/188-million-us-wildfires                            1.88 Million US Wildfires                        168MB  2020-05-12 21:03:49          18813  \n",
            "jpmiller/publicassistance                                   US Public Food Assistance                        703KB  2020-08-21 16:51:18          15461  \n",
            "thiagoazen/all-pokemon-with-stats                           All Pokemon with stats                            17KB  2022-02-03 00:06:43            161  \n"
          ]
        }
      ]
    },
    {
      "cell_type": "code",
      "source": [
        "!kaggle datasets download -d smid80/weatherww2"
      ],
      "metadata": {
        "colab": {
          "base_uri": "https://localhost:8080/"
        },
        "id": "apVUvYNdH0qX",
        "outputId": "bcb95aeb-8d5d-49f5-973c-3a2abada983a"
      },
      "execution_count": null,
      "outputs": [
        {
          "output_type": "stream",
          "name": "stdout",
          "text": [
            "Downloading weatherww2.zip to /content\n",
            "\r  0% 0.00/1.65M [00:00<?, ?B/s]\n",
            "\r100% 1.65M/1.65M [00:00<00:00, 55.2MB/s]\n"
          ]
        }
      ]
    },
    {
      "cell_type": "code",
      "source": [
        "!unzip weatherww2.zip"
      ],
      "metadata": {
        "colab": {
          "base_uri": "https://localhost:8080/"
        },
        "id": "LkFlGS6cIoz5",
        "outputId": "c9e10201-1b6a-4df3-ddc3-2e87cbf4f591"
      },
      "execution_count": null,
      "outputs": [
        {
          "output_type": "stream",
          "name": "stdout",
          "text": [
            "Archive:  weatherww2.zip\n",
            "  inflating: Summary of Weather.csv  \n",
            "  inflating: Weather Station Locations.csv  \n"
          ]
        }
      ]
    },
    {
      "cell_type": "code",
      "source": [
        "# Imports\n",
        "import torch\n",
        "\n",
        "import torchvision\n",
        "import torch.nn as nn\n",
        "import pandas as pd\n",
        "import seaborn as sns\n",
        "import matplotlib.pyplot as plt\n",
        "import torch.nn.functional as F\n",
        "from torchvision.datasets.utils import download_url\n",
        "from torch.utils.data import DataLoader, TensorDataset, random_split"
      ],
      "metadata": {
        "id": "QQnwb8HUP4Zp"
      },
      "execution_count": null,
      "outputs": []
    },
    {
      "cell_type": "code",
      "source": [
        "# Other constants\n",
        "#DATASET_URL = \"https://raw.githubusercontent.com/selva86/datasets/master/BostonHousing.csv\"\n",
        "DATA_FILENAME = \"Summary of Weather.csv\"\n",
        "TARGET_COLUMN = 'MaxTemp'\n",
        "dataframe = pd.read_csv(DATA_FILENAME)\n"
      ],
      "metadata": {
        "colab": {
          "base_uri": "https://localhost:8080/"
        },
        "id": "CskqX_IRQKof",
        "outputId": "fe5d255a-bff0-47f8-b8df-312200598829"
      },
      "execution_count": null,
      "outputs": [
        {
          "output_type": "stream",
          "name": "stderr",
          "text": [
            "/usr/local/lib/python3.7/dist-packages/IPython/core/interactiveshell.py:2882: DtypeWarning: Columns (7,8,18,25) have mixed types.Specify dtype option on import or set low_memory=False.\n",
            "  exec(code_obj, self.user_global_ns, self.user_ns)\n"
          ]
        }
      ]
    },
    {
      "cell_type": "code",
      "source": [
        "dataframe.drop([\"Date\"], axis = 1, inplace = True)\n",
        "dataframe.drop([\"PRCP\"], axis = 1, inplace = True)\n",
        "dataframe.drop([\"STA\"], axis = 1, inplace = True)\n",
        "dataframe.drop([\"WindGustSpd\"], axis = 1, inplace = True)\n",
        "dataframe.drop([\"YR\"], axis = 1, inplace = True)\n",
        "dataframe.drop([\"MO\"], axis = 1, inplace = True)\n",
        "dataframe.drop([\"DA\"], axis = 1, inplace = True)\n",
        "dataframe.drop([\"DR\"], axis = 1, inplace = True)\n",
        "dataframe.drop([\"SPD\"], axis = 1, inplace = True)\n",
        "\n",
        "dataframe.drop([\"SND\"], axis = 1, inplace = True)\n",
        "dataframe.drop([\"FT\"], axis = 1, inplace = True)\n",
        "dataframe.drop([\"FTI\"], axis = 1, inplace = True)\n",
        "dataframe.drop([\"FB\"], axis = 1, inplace = True)\n",
        "dataframe.drop([\"ITH\"], axis = 1, inplace = True)\n",
        "dataframe.drop([\"TSHDSBRSGF\"], axis = 1, inplace = True)\n",
        "dataframe.drop([\"PGT\"], axis = 1, inplace = True)\n",
        "dataframe.drop([\"SD3\"], axis = 1, inplace = True)\n",
        "dataframe.drop([\"RHX\"], axis = 1, inplace = True)\n",
        "dataframe.drop([\"RHN\"], axis = 1, inplace = True)\n",
        "dataframe.drop([\"RVG\"], axis = 1, inplace = True)\n",
        "dataframe.drop([\"WTE\"], axis = 1, inplace = True)\n",
        "dataframe.drop([\"MAX\"], axis = 1, inplace = True)\n",
        "dataframe.drop([\"MIN\"], axis = 1, inplace = True)\n",
        "dataframe.drop([\"MEA\"], axis = 1, inplace = True)\n",
        "dataframe.drop([\"SNF\"], axis = 1, inplace = True)\n",
        "\n",
        "for col in dataframe.columns:\n",
        "    if (dataframe[col].dtype == object):\n",
        "        dataframe[col] = dataframe[col].replace(['T','#VALUE!'],0)\n",
        "        dataframe[col] = dataframe[col].replace(['1   1','1   1 1  1','1 0','1 0  1','1 1  1','11    1','11 1','1     0','1    1','1   1 1','1     1','1 1','1     1  1','1  1','1        1','1        1'],1)\n",
        "        dataframe[col] = dataframe[col].fillna(0)\n",
        "        dataframe[col] = dataframe[col].astype('float32')\n",
        "\n",
        "dataframe.head()"
      ],
      "metadata": {
        "colab": {
          "base_uri": "https://localhost:8080/",
          "height": 206
        },
        "id": "tlYsvvQ8SFAo",
        "outputId": "85d57b04-57d6-4c35-e17d-7ba4695789d8"
      },
      "execution_count": null,
      "outputs": [
        {
          "output_type": "execute_result",
          "data": {
            "text/html": [
              "\n",
              "  <div id=\"df-cd737a7c-4230-4ff7-b39a-9bc7ba6c8447\">\n",
              "    <div class=\"colab-df-container\">\n",
              "      <div>\n",
              "<style scoped>\n",
              "    .dataframe tbody tr th:only-of-type {\n",
              "        vertical-align: middle;\n",
              "    }\n",
              "\n",
              "    .dataframe tbody tr th {\n",
              "        vertical-align: top;\n",
              "    }\n",
              "\n",
              "    .dataframe thead th {\n",
              "        text-align: right;\n",
              "    }\n",
              "</style>\n",
              "<table border=\"1\" class=\"dataframe\">\n",
              "  <thead>\n",
              "    <tr style=\"text-align: right;\">\n",
              "      <th></th>\n",
              "      <th>Precip</th>\n",
              "      <th>MaxTemp</th>\n",
              "      <th>MinTemp</th>\n",
              "      <th>MeanTemp</th>\n",
              "      <th>Snowfall</th>\n",
              "      <th>PoorWeather</th>\n",
              "    </tr>\n",
              "  </thead>\n",
              "  <tbody>\n",
              "    <tr>\n",
              "      <th>0</th>\n",
              "      <td>1.016</td>\n",
              "      <td>25.555556</td>\n",
              "      <td>22.222222</td>\n",
              "      <td>23.888889</td>\n",
              "      <td>0.0</td>\n",
              "      <td>0.0</td>\n",
              "    </tr>\n",
              "    <tr>\n",
              "      <th>1</th>\n",
              "      <td>0.000</td>\n",
              "      <td>28.888889</td>\n",
              "      <td>21.666667</td>\n",
              "      <td>25.555556</td>\n",
              "      <td>0.0</td>\n",
              "      <td>0.0</td>\n",
              "    </tr>\n",
              "    <tr>\n",
              "      <th>2</th>\n",
              "      <td>2.540</td>\n",
              "      <td>26.111111</td>\n",
              "      <td>22.222222</td>\n",
              "      <td>24.444444</td>\n",
              "      <td>0.0</td>\n",
              "      <td>0.0</td>\n",
              "    </tr>\n",
              "    <tr>\n",
              "      <th>3</th>\n",
              "      <td>2.540</td>\n",
              "      <td>26.666667</td>\n",
              "      <td>22.222222</td>\n",
              "      <td>24.444444</td>\n",
              "      <td>0.0</td>\n",
              "      <td>0.0</td>\n",
              "    </tr>\n",
              "    <tr>\n",
              "      <th>4</th>\n",
              "      <td>0.000</td>\n",
              "      <td>26.666667</td>\n",
              "      <td>21.666667</td>\n",
              "      <td>24.444444</td>\n",
              "      <td>0.0</td>\n",
              "      <td>0.0</td>\n",
              "    </tr>\n",
              "  </tbody>\n",
              "</table>\n",
              "</div>\n",
              "      <button class=\"colab-df-convert\" onclick=\"convertToInteractive('df-cd737a7c-4230-4ff7-b39a-9bc7ba6c8447')\"\n",
              "              title=\"Convert this dataframe to an interactive table.\"\n",
              "              style=\"display:none;\">\n",
              "        \n",
              "  <svg xmlns=\"http://www.w3.org/2000/svg\" height=\"24px\"viewBox=\"0 0 24 24\"\n",
              "       width=\"24px\">\n",
              "    <path d=\"M0 0h24v24H0V0z\" fill=\"none\"/>\n",
              "    <path d=\"M18.56 5.44l.94 2.06.94-2.06 2.06-.94-2.06-.94-.94-2.06-.94 2.06-2.06.94zm-11 1L8.5 8.5l.94-2.06 2.06-.94-2.06-.94L8.5 2.5l-.94 2.06-2.06.94zm10 10l.94 2.06.94-2.06 2.06-.94-2.06-.94-.94-2.06-.94 2.06-2.06.94z\"/><path d=\"M17.41 7.96l-1.37-1.37c-.4-.4-.92-.59-1.43-.59-.52 0-1.04.2-1.43.59L10.3 9.45l-7.72 7.72c-.78.78-.78 2.05 0 2.83L4 21.41c.39.39.9.59 1.41.59.51 0 1.02-.2 1.41-.59l7.78-7.78 2.81-2.81c.8-.78.8-2.07 0-2.86zM5.41 20L4 18.59l7.72-7.72 1.47 1.35L5.41 20z\"/>\n",
              "  </svg>\n",
              "      </button>\n",
              "      \n",
              "  <style>\n",
              "    .colab-df-container {\n",
              "      display:flex;\n",
              "      flex-wrap:wrap;\n",
              "      gap: 12px;\n",
              "    }\n",
              "\n",
              "    .colab-df-convert {\n",
              "      background-color: #E8F0FE;\n",
              "      border: none;\n",
              "      border-radius: 50%;\n",
              "      cursor: pointer;\n",
              "      display: none;\n",
              "      fill: #1967D2;\n",
              "      height: 32px;\n",
              "      padding: 0 0 0 0;\n",
              "      width: 32px;\n",
              "    }\n",
              "\n",
              "    .colab-df-convert:hover {\n",
              "      background-color: #E2EBFA;\n",
              "      box-shadow: 0px 1px 2px rgba(60, 64, 67, 0.3), 0px 1px 3px 1px rgba(60, 64, 67, 0.15);\n",
              "      fill: #174EA6;\n",
              "    }\n",
              "\n",
              "    [theme=dark] .colab-df-convert {\n",
              "      background-color: #3B4455;\n",
              "      fill: #D2E3FC;\n",
              "    }\n",
              "\n",
              "    [theme=dark] .colab-df-convert:hover {\n",
              "      background-color: #434B5C;\n",
              "      box-shadow: 0px 1px 3px 1px rgba(0, 0, 0, 0.15);\n",
              "      filter: drop-shadow(0px 1px 2px rgba(0, 0, 0, 0.3));\n",
              "      fill: #FFFFFF;\n",
              "    }\n",
              "  </style>\n",
              "\n",
              "      <script>\n",
              "        const buttonEl =\n",
              "          document.querySelector('#df-cd737a7c-4230-4ff7-b39a-9bc7ba6c8447 button.colab-df-convert');\n",
              "        buttonEl.style.display =\n",
              "          google.colab.kernel.accessAllowed ? 'block' : 'none';\n",
              "\n",
              "        async function convertToInteractive(key) {\n",
              "          const element = document.querySelector('#df-cd737a7c-4230-4ff7-b39a-9bc7ba6c8447');\n",
              "          const dataTable =\n",
              "            await google.colab.kernel.invokeFunction('convertToInteractive',\n",
              "                                                     [key], {});\n",
              "          if (!dataTable) return;\n",
              "\n",
              "          const docLinkHtml = 'Like what you see? Visit the ' +\n",
              "            '<a target=\"_blank\" href=https://colab.research.google.com/notebooks/data_table.ipynb>data table notebook</a>'\n",
              "            + ' to learn more about interactive tables.';\n",
              "          element.innerHTML = '';\n",
              "          dataTable['output_type'] = 'display_data';\n",
              "          await google.colab.output.renderOutput(dataTable, element);\n",
              "          const docLink = document.createElement('div');\n",
              "          docLink.innerHTML = docLinkHtml;\n",
              "          element.appendChild(docLink);\n",
              "        }\n",
              "      </script>\n",
              "    </div>\n",
              "  </div>\n",
              "  "
            ],
            "text/plain": [
              "   Precip    MaxTemp    MinTemp   MeanTemp  Snowfall  PoorWeather\n",
              "0   1.016  25.555556  22.222222  23.888889       0.0          0.0\n",
              "1   0.000  28.888889  21.666667  25.555556       0.0          0.0\n",
              "2   2.540  26.111111  22.222222  24.444444       0.0          0.0\n",
              "3   2.540  26.666667  22.222222  24.444444       0.0          0.0\n",
              "4   0.000  26.666667  21.666667  24.444444       0.0          0.0"
            ]
          },
          "metadata": {},
          "execution_count": 11
        }
      ]
    },
    {
      "cell_type": "code",
      "source": [
        "print(\"max MaxTemp: \",dataframe['MaxTemp'].max())\n",
        "print(\"min MaxTemp: \",dataframe['MaxTemp'].min())\n",
        "print(\"max MinTemp: \",dataframe['MinTemp'].max())\n",
        "print(\"min MinTemp: \",dataframe['MinTemp'].min())\n",
        "\n",
        "fig_dims = (10, 20)\n",
        "fig, axs = plt.subplots(nrows=6,figsize=fig_dims)\n",
        "\n",
        "plt.subplots_adjust(hspace = 0.3)\n",
        "\n",
        "\n",
        "pl1 = sns.distplot(dataframe.Precip,ax=axs[0],kde=False);\n",
        "pl1.set(xlabel = \"Precpitation range\")\n",
        "\n",
        "pl2 = sns.distplot(dataframe.MaxTemp,ax=axs[1],kde=False);\n",
        "pl2.set(xlabel = \"MaxTemp range\")\n",
        "\n",
        "pl3 = sns.distplot(dataframe.MinTemp,ax=axs[2],kde=False);\n",
        "pl3.set(xlabel = \"MinTemp range\")\n",
        "\n",
        "pl4 = sns.distplot(dataframe.MeanTemp,ax=axs[3],kde=False);\n",
        "pl4.set(xlabel = \"MeanTemp range\")\n",
        "\n",
        "pl5 = sns.distplot(dataframe.Snowfall,ax=axs[4],kde=False);\n",
        "pl5.set(xlabel = \"Snowfall range\")\n",
        "\n",
        "pl6 = sns.distplot(dataframe.PoorWeather,ax=axs[5],kde=False);\n",
        "pl6.set(xlabel = \"PoorWeather range\")\n"
      ],
      "metadata": {
        "colab": {
          "base_uri": "https://localhost:8080/",
          "height": 1000
        },
        "id": "KiixIyzsSrGx",
        "outputId": "48ab432d-c643-4cb2-c5be-84bec40f06b6"
      },
      "execution_count": null,
      "outputs": [
        {
          "output_type": "stream",
          "name": "stdout",
          "text": [
            "max MaxTemp:  50.0\n",
            "min MaxTemp:  -33.33333333\n",
            "max MinTemp:  34.44444444\n",
            "min MinTemp:  -38.33333333\n"
          ]
        },
        {
          "output_type": "stream",
          "name": "stderr",
          "text": [
            "/usr/local/lib/python3.7/dist-packages/seaborn/distributions.py:2619: FutureWarning: `distplot` is a deprecated function and will be removed in a future version. Please adapt your code to use either `displot` (a figure-level function with similar flexibility) or `histplot` (an axes-level function for histograms).\n",
            "  warnings.warn(msg, FutureWarning)\n"
          ]
        },
        {
          "output_type": "execute_result",
          "data": {
            "text/plain": [
              "[Text(0.5, 0, 'PoorWeather range')]"
            ]
          },
          "metadata": {},
          "execution_count": 12
        },
        {
          "output_type": "display_data",
          "data": {
            "image/png": "[encoded data removed]",
            "text/plain": [
              "<Figure size 720x1440 with 6 Axes>"
            ]
          },
          "metadata": {
            "needs_background": "light"
          }
        }
      ]
    },
    {
      "cell_type": "code",
      "source": [
        "# Convert from Pandas dataframe to numpy arrays\n",
        "inputs = dataframe.drop(TARGET_COLUMN, axis=1).values\n",
        "targets = dataframe[[TARGET_COLUMN]].values\n",
        "inputs.shape, targets.shape"
      ],
      "metadata": {
        "colab": {
          "base_uri": "https://localhost:8080/"
        },
        "id": "ZPin3PLUUBJ2",
        "outputId": "c2c8288e-ac36-4b3d-af90-bbb096e33087"
      },
      "execution_count": null,
      "outputs": [
        {
          "output_type": "execute_result",
          "data": {
            "text/plain": [
              "((119040, 5), (119040, 1))"
            ]
          },
          "metadata": {},
          "execution_count": 13
        }
      ]
    },
    {
      "cell_type": "code",
      "source": [
        "inputs.dtype, targets.dtype"
      ],
      "metadata": {
        "colab": {
          "base_uri": "https://localhost:8080/"
        },
        "id": "u4Y8iBmJLa-H",
        "outputId": "df6b1643-f528-4590-cd34-48b9b5b81add"
      },
      "execution_count": null,
      "outputs": [
        {
          "output_type": "execute_result",
          "data": {
            "text/plain": [
              "(dtype('float64'), dtype('float64'))"
            ]
          },
          "metadata": {},
          "execution_count": 14
        }
      ]
    },
    {
      "cell_type": "code",
      "source": [
        "# Hyperparameters\n",
        "batch_size=5120\n",
        "\n",
        "# Convert to PyTorch dataset\n",
        "dataset = TensorDataset(torch.tensor(inputs, dtype=torch.float32), torch.tensor(targets, dtype=torch.float32))\n",
        "\n",
        "num_rows = dataframe.shape[0]\n",
        "\n",
        "val_percent = 0.1 # between 0.1 and 0.2\n",
        "\n",
        "val_size = int(num_rows * val_percent)\n",
        "train_size = num_rows - val_size\n",
        "\n",
        "train_ds, val_ds = random_split(dataset, (train_size,val_size))\n",
        "\n",
        "train_loader = DataLoader(train_ds, batch_size, shuffle=True)\n",
        "val_loader = DataLoader(val_ds, batch_size*2)"
      ],
      "metadata": {
        "id": "5bbg_5U_UL6P"
      },
      "execution_count": null,
      "outputs": []
    },
    {
      "cell_type": "code",
      "source": [
        "class WW2TempPreidictionModel(nn.Module):\n",
        "    def __init__(self):\n",
        "        super().__init__()\n",
        "        self.linear = nn.Linear(input_size, output_size)\n",
        "\n",
        "    def forward(self, xb):\n",
        "        out = self.linear(xb)\n",
        "        return out\n",
        "\n",
        "    def training_step(self, batch):\n",
        "        inputs, targets = batch\n",
        "        out = self(inputs)                 # Generate predictions\n",
        "        loss = F.l1_loss(out, targets)    # Calculate loss\n",
        "        return loss\n",
        "\n",
        "    def validation_step(self, batch):\n",
        "        inputs, targets = batch\n",
        "        out = self(inputs)                 # Generate predictions\n",
        "        loss = F.l1_loss(out, targets)    # Calculate loss\n",
        "        return {'val_loss': loss.detach()}\n",
        "\n",
        "    def validation_epoch_end(self, outputs):\n",
        "        batch_losses = [x['val_loss'] for x in outputs]\n",
        "        epoch_loss = torch.stack(batch_losses).mean()   # Combine losses\n",
        "        return {'val_loss': epoch_loss.item()}\n",
        "\n",
        "    def epoch_end(self, epoch, result,num_epochs):\n",
        "        if (epoch+1) % 10 == 0 or epoch == num_epochs-1:\n",
        "            print(\"Epoch [{}], val_loss: {:.4f}\".format(epoch, result['val_loss']))\n",
        "\n",
        ""
      ],
      "metadata": {
        "id": "h_xGfFrfUYGh"
      },
      "execution_count": null,
      "outputs": []
    },
    {
      "cell_type": "code",
      "source": [
        "input_size = inputs.shape[1]\n",
        "output_size = targets.shape[1]\n",
        "input_size, output_size"
      ],
      "metadata": {
        "colab": {
          "base_uri": "https://localhost:8080/"
        },
        "id": "bbzLR7JRUfHL",
        "outputId": "35fd442d-c834-40a9-b3c5-68001e63cd66"
      },
      "execution_count": null,
      "outputs": [
        {
          "output_type": "execute_result",
          "data": {
            "text/plain": [
              "(5, 1)"
            ]
          },
          "metadata": {},
          "execution_count": 17
        }
      ]
    },
    {
      "cell_type": "code",
      "source": [
        "def evaluate(model, val_loader):\n",
        "    outputs = [model.validation_step(batch) for batch in val_loader]\n",
        "    return model.validation_epoch_end(outputs)\n",
        "\n",
        "def fit(epochs, lr, model, train_loader, val_loader, opt_func=torch.optim.SGD):\n",
        "    history = []\n",
        "    optimizer = opt_func(model.parameters(), lr)\n",
        "    for epoch in range(epochs):\n",
        "        # Training Phase\n",
        "        for batch in train_loader:\n",
        "            loss = model.training_step(batch)\n",
        "            #print(\"Params after calcuating loss: \",list(model.parameters()))\n",
        "            loss.backward()\n",
        "            #print(\"Params after gradient step: \",list(model.parameters()))\n",
        "            optimizer.step()\n",
        "            #print(\"Params after updating grads: \",list(model.parameters()))\n",
        "            optimizer.zero_grad()\n",
        "            #print(\"Params after zero grad: \",list(model.parameters()))\n",
        "        # Validation phase\n",
        "        result = evaluate(model, val_loader)\n",
        "        model.epoch_end(epoch, result,epochs)\n",
        "        history.append(result)\n",
        "    return history"
      ],
      "metadata": {
        "id": "oUsanny-UfLN"
      },
      "execution_count": null,
      "outputs": []
    },
    {
      "cell_type": "code",
      "source": [
        "list(train_loader)"
      ],
      "metadata": {
        "colab": {
          "base_uri": "https://localhost:8080/"
        },
        "id": "QqL_q_leMDZO",
        "outputId": "7fd03e63-b6a1-4d14-8bad-0e4f11833b6b"
      },
      "execution_count": null,
      "outputs": [
        {
          "output_type": "execute_result",
          "data": {
            "text/plain": [
              "[[tensor([[  0.0000,  18.3333,  28.8889,   0.0000,   0.0000],\n",
              "          [  0.0000,  25.0000,  28.8889,   0.0000,   0.0000],\n",
              "          [  0.0000,   5.5556,  13.3333,   0.0000,   0.0000],\n",
              "          ...,\n",
              "          [  2.2860,  22.7778,  27.2222,   0.0000,   1.0000],\n",
              "          [  0.0000,  22.2222,  25.5556,   0.0000,   0.0000],\n",
              "          [110.7440,  21.1111,  23.8889,   0.0000,   1.0000]]),\n",
              "  tensor([[38.8889],\n",
              "          [32.2222],\n",
              "          [21.6667],\n",
              "          ...,\n",
              "          [31.6667],\n",
              "          [28.3333],\n",
              "          [26.6667]])],\n",
              " [tensor([[ 0.0000, 23.3333, 27.2222,  0.0000,  0.0000],\n",
              "          [ 0.0000, 20.0000, 23.3333,  0.0000,  0.0000],\n",
              "          [ 0.0000, 18.8889, 25.5556,  0.0000,  0.0000],\n",
              "          ...,\n",
              "          [ 0.0000, 10.0000, 17.7778,  0.0000,  0.0000],\n",
              "          [19.0500, 23.8889, 28.8889,  0.0000,  1.0000],\n",
              "          [ 0.0000, 21.6667, 26.6667,  0.0000,  0.0000]]), tensor([[31.1111],\n",
              "          [26.6667],\n",
              "          [32.7778],\n",
              "          ...,\n",
              "          [25.0000],\n",
              "          [33.3333],\n",
              "          [31.1111]])],\n",
              " [tensor([[ 0.0000, 22.2222, 27.2222,  0.0000,  0.0000],\n",
              "          [ 0.0000, 11.1111, 20.5556,  0.0000,  0.0000],\n",
              "          [ 0.0000, 14.4444, 22.7778,  0.0000,  0.0000],\n",
              "          ...,\n",
              "          [ 2.0320,  7.7778, 11.6667,  0.0000,  0.0000],\n",
              "          [ 0.0000,  6.1111, 11.1111,  0.0000,  0.0000],\n",
              "          [ 0.0000, 15.0000, 23.3333,  0.0000,  0.0000]]), tensor([[32.2222],\n",
              "          [30.0000],\n",
              "          [31.1111],\n",
              "          ...,\n",
              "          [15.0000],\n",
              "          [15.5556],\n",
              "          [32.2222]])],\n",
              " [tensor([[  0.0000,   7.2222,  12.2222,   0.0000,   0.0000],\n",
              "          [  0.0000,  26.1111,  28.8889,   0.0000,   1.0000],\n",
              "          [  0.0000,  21.1111,  25.5556,   0.0000,   0.0000],\n",
              "          ...,\n",
              "          [  0.0000,  20.0000,  25.5556,   0.0000,   0.0000],\n",
              "          [  0.2540,  -1.6667,  -0.5556,   0.0000,   1.0000],\n",
              "          [  0.0000, -11.1111,  -7.7778,   0.0000,   0.0000]]),\n",
              "  tensor([[16.6667],\n",
              "          [31.6667],\n",
              "          [30.0000],\n",
              "          ...,\n",
              "          [31.6667],\n",
              "          [ 0.5556],\n",
              "          [-5.0000]])],\n",
              " [tensor([[ 0.0000, 23.8889, 26.6667,  0.0000,  0.0000],\n",
              "          [ 0.2540, 22.7778, 26.1111,  0.0000,  0.0000],\n",
              "          [ 0.5080, 21.1111, 24.4444,  0.0000,  0.0000],\n",
              "          ...,\n",
              "          [ 0.0000,  7.2222, 12.2222,  0.0000,  0.0000],\n",
              "          [ 0.0000, 22.2222, 27.7778,  0.0000,  0.0000],\n",
              "          [ 0.7620, 25.5556, 28.8889,  0.0000,  1.0000]]), tensor([[29.4444],\n",
              "          [29.4444],\n",
              "          [27.7778],\n",
              "          ...,\n",
              "          [17.2222],\n",
              "          [32.7778],\n",
              "          [31.6667]])],\n",
              " [tensor([[ 0.0000, 11.6667, 15.5556,  0.0000,  0.0000],\n",
              "          [ 0.0000, 21.6667, 26.6667,  0.0000,  0.0000],\n",
              "          [ 0.0000, 15.0000, 24.4444,  0.0000,  0.0000],\n",
              "          ...,\n",
              "          [ 0.0000, 16.6667, 22.2222,  0.0000,  0.0000],\n",
              "          [ 0.0000, 21.6667, 28.3333,  0.0000,  0.0000],\n",
              "          [ 0.0000, 16.1111, 25.0000,  0.0000,  0.0000]]), tensor([[19.4444],\n",
              "          [32.2222],\n",
              "          [33.3333],\n",
              "          ...,\n",
              "          [27.2222],\n",
              "          [35.0000],\n",
              "          [33.8889]])],\n",
              " [tensor([[ 0.0000, 24.4444, 28.3333,  0.0000,  1.0000],\n",
              "          [ 0.0000, 24.4444, 26.6667,  0.0000,  0.0000],\n",
              "          [ 0.0000,  6.6667, 17.2222,  0.0000,  0.0000],\n",
              "          ...,\n",
              "          [ 9.3980, 24.4444, 26.1111,  0.0000,  0.0000],\n",
              "          [ 0.0000, 21.6667, 25.5556,  0.0000,  0.0000],\n",
              "          [ 0.0000, 21.1111, 26.1111,  0.0000,  0.0000]]), tensor([[32.2222],\n",
              "          [28.8889],\n",
              "          [27.7778],\n",
              "          ...,\n",
              "          [27.7778],\n",
              "          [28.8889],\n",
              "          [31.1111]])],\n",
              " [tensor([[30.9880, 22.7778, 26.6667,  0.0000,  0.0000],\n",
              "          [ 0.0000, 23.3333, 25.5556,  0.0000,  0.0000],\n",
              "          [ 1.7780, 21.6667, 26.1111,  0.0000,  0.0000],\n",
              "          ...,\n",
              "          [ 0.0000, 18.3333, 25.0000,  0.0000,  0.0000],\n",
              "          [ 0.0000, 23.3333, 25.5556,  0.0000,  0.0000],\n",
              "          [ 0.2540, 23.3333, 26.6667,  0.0000,  0.0000]]), tensor([[31.1111],\n",
              "          [27.2222],\n",
              "          [30.0000],\n",
              "          ...,\n",
              "          [32.2222],\n",
              "          [27.2222],\n",
              "          [30.0000]])],\n",
              " [tensor([[ 4.5720, 21.6667, 26.1111,  0.0000,  1.0000],\n",
              "          [ 3.3020, 23.3333, 26.6667,  0.0000,  0.0000],\n",
              "          [ 0.0000, 21.6667, 25.5556,  0.0000,  0.0000],\n",
              "          ...,\n",
              "          [ 0.0000, 23.3333, 27.7778,  0.0000,  0.0000],\n",
              "          [ 5.8420, 21.6667, 26.6667,  0.0000,  1.0000],\n",
              "          [ 0.0000, 18.8889, 24.4444,  0.0000,  0.0000]]), tensor([[30.0000],\n",
              "          [30.0000],\n",
              "          [30.0000],\n",
              "          ...,\n",
              "          [31.6667],\n",
              "          [31.1111],\n",
              "          [30.0000]])],\n",
              " [tensor([[ 0.0000, 25.5556, 31.1111,  0.0000,  0.0000],\n",
              "          [ 0.0000, 21.6667, 26.6667,  0.0000,  1.0000],\n",
              "          [ 0.0000, 19.4444, 24.4444,  0.0000,  0.0000],\n",
              "          ...,\n",
              "          [ 0.0000,  6.6667, 12.2222,  0.0000,  0.0000],\n",
              "          [ 0.0000, 21.1111, 23.8889,  0.0000,  0.0000],\n",
              "          [16.0020, 21.1111, 27.2222,  0.0000,  1.0000]]), tensor([[36.6667],\n",
              "          [31.6667],\n",
              "          [28.8889],\n",
              "          ...,\n",
              "          [18.3333],\n",
              "          [26.6667],\n",
              "          [33.3333]])],\n",
              " [tensor([[ 0.0000, 23.3333, 27.7778,  0.0000,  0.0000],\n",
              "          [ 0.0000, 23.3333, 34.4444,  0.0000,  0.0000],\n",
              "          [33.7820, 23.3333, 26.6667,  0.0000,  1.0000],\n",
              "          ...,\n",
              "          [ 0.2540, 25.0000, 28.3333,  0.0000,  0.0000],\n",
              "          [ 0.0000, 22.7778, 24.4444,  0.0000,  0.0000],\n",
              "          [ 0.0000, 24.4444, 27.2222,  0.0000,  1.0000]]), tensor([[32.2222],\n",
              "          [45.0000],\n",
              "          [30.0000],\n",
              "          ...,\n",
              "          [32.2222],\n",
              "          [26.6667],\n",
              "          [30.0000]])],\n",
              " [tensor([[37.3380, 20.0000, 22.2222,  0.0000,  1.0000],\n",
              "          [ 0.7620, 22.7778, 26.6667,  0.0000,  0.0000],\n",
              "          [ 0.0000,  5.0000, 12.2222,  0.0000,  0.0000],\n",
              "          ...,\n",
              "          [ 0.0000,  6.1111, 10.0000,  0.0000,  0.0000],\n",
              "          [19.5580, 15.0000, 16.6667,  0.0000,  0.0000],\n",
              "          [ 0.0000, 21.1111, 25.0000,  0.0000,  0.0000]]), tensor([[25.0000],\n",
              "          [30.5556],\n",
              "          [20.0000],\n",
              "          ...,\n",
              "          [14.4444],\n",
              "          [18.3333],\n",
              "          [28.8889]])],\n",
              " [tensor([[ 1.7780, 15.0000, 19.4444,  0.0000,  0.0000],\n",
              "          [20.3200, 20.5556, 24.4444,  0.0000,  0.0000],\n",
              "          [ 0.0000, 22.7778, 27.7778,  0.0000,  0.0000],\n",
              "          ...,\n",
              "          [ 0.0000, 23.8889, 31.1111,  0.0000,  0.0000],\n",
              "          [ 0.7620,  8.3333, 11.1111,  0.0000,  1.0000],\n",
              "          [ 0.0000, 21.6667, 26.1111,  0.0000,  0.0000]]), tensor([[23.8889],\n",
              "          [27.7778],\n",
              "          [32.2222],\n",
              "          ...,\n",
              "          [38.3333],\n",
              "          [13.8889],\n",
              "          [30.5556]])],\n",
              " [tensor([[ 0.0000, 26.1111, 31.1111,  0.0000,  0.0000],\n",
              "          [ 0.0000, 13.3333, 16.1111,  0.0000,  0.0000],\n",
              "          [ 0.0000, 24.4444, 27.7778,  0.0000,  0.0000],\n",
              "          ...,\n",
              "          [ 0.0000, 21.1111, 25.0000,  0.0000,  0.0000],\n",
              "          [ 1.7780, 25.5556, 28.8889,  0.0000,  1.0000],\n",
              "          [ 0.0000, 22.7778, 26.6667,  0.0000,  0.0000]]), tensor([[36.6667],\n",
              "          [18.8889],\n",
              "          [31.1111],\n",
              "          ...,\n",
              "          [30.5556],\n",
              "          [31.6667],\n",
              "          [30.5556]])],\n",
              " [tensor([[ 0.0000, 22.2222, 26.6667,  0.0000,  0.0000],\n",
              "          [ 0.0000, 17.2222, 22.2222,  0.0000,  0.0000],\n",
              "          [ 0.0000, 20.0000, 27.7778,  0.0000,  0.0000],\n",
              "          ...,\n",
              "          [34.5440, 24.4444, 28.8889,  0.0000,  0.0000],\n",
              "          [ 0.0000, 22.7778, 26.6667,  0.0000,  0.0000],\n",
              "          [ 1.0160, 20.0000, 21.6667,  0.0000,  0.0000]]), tensor([[31.6667],\n",
              "          [26.6667],\n",
              "          [36.1111],\n",
              "          ...,\n",
              "          [33.8889],\n",
              "          [30.0000],\n",
              "          [23.3333]])],\n",
              " [tensor([[ 0.0000, 20.5556, 27.7778,  0.0000,  0.0000],\n",
              "          [ 0.0000,  8.3333, 15.5556,  0.0000,  0.0000],\n",
              "          [ 0.0000, 20.5556, 25.0000,  0.0000,  0.0000],\n",
              "          ...,\n",
              "          [ 0.0000, 17.2222, 25.0000,  0.0000,  0.0000],\n",
              "          [ 0.0000, 22.7778, 27.7778,  0.0000,  0.0000],\n",
              "          [ 0.0000, 20.0000, 27.7778,  0.0000,  0.0000]]), tensor([[35.0000],\n",
              "          [23.3333],\n",
              "          [29.4444],\n",
              "          ...,\n",
              "          [32.7778],\n",
              "          [32.2222],\n",
              "          [36.1111]])],\n",
              " [tensor([[14.4780, 22.2222, 25.5556,  0.0000,  0.0000],\n",
              "          [ 0.0000, 20.0000, 23.8889,  0.0000,  0.0000],\n",
              "          [ 0.0000, 22.2222, 26.1111,  0.0000,  0.0000],\n",
              "          ...,\n",
              "          [12.1920, 23.3333, 25.5556,  0.0000,  1.0000],\n",
              "          [ 0.0000, 19.4444, 24.4444,  0.0000,  0.0000],\n",
              "          [ 0.7620, 22.7778, 26.6667,  0.0000,  1.0000]]), tensor([[28.8889],\n",
              "          [27.7778],\n",
              "          [30.0000],\n",
              "          ...,\n",
              "          [27.2222],\n",
              "          [29.4444],\n",
              "          [30.0000]])],\n",
              " [tensor([[  0.0000, -12.2222,  -5.5556,   2.5400,   0.0000],\n",
              "          [ 33.2740,  23.3333,  25.5556,   0.0000,   1.0000],\n",
              "          [  0.0000,  26.1111,  28.8889,   0.0000,   0.0000],\n",
              "          ...,\n",
              "          [  0.0000,  25.0000,  27.7778,   0.0000,   0.0000],\n",
              "          [  4.3180,  23.3333,  26.6667,   0.0000,   1.0000],\n",
              "          [  0.0000,  21.1111,  25.5556,   0.0000,   1.0000]]),\n",
              "  tensor([[ 0.5556],\n",
              "          [28.3333],\n",
              "          [31.1111],\n",
              "          ...,\n",
              "          [30.0000],\n",
              "          [30.0000],\n",
              "          [31.6667]])],\n",
              " [tensor([[ 0.0000, 16.6667, 22.7778,  0.0000,  0.0000],\n",
              "          [ 0.0000, 18.8889, 27.7778,  0.0000,  0.0000],\n",
              "          [ 0.0000, 23.3333, 27.2222,  0.0000,  0.0000],\n",
              "          ...,\n",
              "          [ 0.0000, 13.3333, 22.7778,  0.0000,  0.0000],\n",
              "          [ 0.0000,  4.4444, 12.2222,  0.0000,  0.0000],\n",
              "          [ 0.0000, 23.3333, 26.6667,  0.0000,  1.0000]]), tensor([[28.8889],\n",
              "          [36.6667],\n",
              "          [31.1111],\n",
              "          ...,\n",
              "          [32.2222],\n",
              "          [20.5556],\n",
              "          [30.0000]])],\n",
              " [tensor([[ 0.0000, 19.4444, 26.1111,  0.0000,  1.0000],\n",
              "          [ 0.0000, 11.1111, 15.5556,  0.0000,  0.0000],\n",
              "          [ 0.0000, 23.3333, 25.5556,  0.0000,  1.0000],\n",
              "          ...,\n",
              "          [ 0.0000,  2.7778,  8.3333,  0.0000,  0.0000],\n",
              "          [ 0.0000, 25.0000, 28.8889,  0.0000,  0.0000],\n",
              "          [ 0.7620, 22.2222, 26.6667,  0.0000,  0.0000]]), tensor([[32.7778],\n",
              "          [20.0000],\n",
              "          [27.2222],\n",
              "          ...,\n",
              "          [13.8889],\n",
              "          [32.7778],\n",
              "          [31.6667]])],\n",
              " [tensor([[43.1800, 24.4444, 28.8889,  0.0000,  0.0000],\n",
              "          [ 0.0000, 26.6667, 28.8889,  0.0000,  0.0000],\n",
              "          [22.0980, 21.6667, 25.5556,  0.0000,  1.0000],\n",
              "          ...,\n",
              "          [ 0.0000, 10.0000, 18.3333,  0.0000,  0.0000],\n",
              "          [ 0.0000, 22.7778, 26.1111,  0.0000,  0.0000],\n",
              "          [ 0.0000, 18.3333, 23.3333,  0.0000,  0.0000]]), tensor([[33.3333],\n",
              "          [30.5556],\n",
              "          [30.0000],\n",
              "          ...,\n",
              "          [26.6667],\n",
              "          [29.4444],\n",
              "          [28.3333]])]]"
            ]
          },
          "metadata": {},
          "execution_count": 19
        }
      ]
    },
    {
      "cell_type": "code",
      "source": [
        "model = WW2TempPreidictionModel()\n",
        "print(\"Initial loss\",evaluate(model, val_loader))\n",
        "learning_rate=1e-10\n",
        "history = fit(100,learning_rate, model, train_loader, val_loader)"
      ],
      "metadata": {
        "colab": {
          "base_uri": "https://localhost:8080/"
        },
        "id": "2WT7kJAfUx1I",
        "outputId": "81c783fd-c6a6-418d-d2a9-4343d0488723"
      },
      "execution_count": null,
      "outputs": [
        {
          "output_type": "stream",
          "name": "stdout",
          "text": [
            "Initial loss {'val_loss': 230918.828125}\n",
            "Epoch [9], val_loss: 205590.7188\n",
            "Epoch [19], val_loss: 180239.6406\n",
            "Epoch [29], val_loss: 154900.0312\n",
            "Epoch [39], val_loss: 129545.6562\n",
            "Epoch [49], val_loss: 104209.4062\n",
            "Epoch [59], val_loss: 78864.8906\n",
            "Epoch [69], val_loss: 53492.1992\n",
            "Epoch [79], val_loss: 28150.9355\n",
            "Epoch [89], val_loss: 2829.4509\n",
            "Epoch [99], val_loss: 82.1737\n"
          ]
        }
      ]
    },
    {
      "cell_type": "code",
      "source": [
        "plot2 = [x['val_loss'] for x in history]\n",
        "plt.plot(plot2)"
      ],
      "metadata": {
        "colab": {
          "base_uri": "https://localhost:8080/",
          "height": 283
        },
        "id": "zNMDgCsQWVLB",
        "outputId": "89ad18c1-9d60-4c9b-edbd-074e22a5abef"
      },
      "execution_count": null,
      "outputs": [
        {
          "output_type": "execute_result",
          "data": {
            "text/plain": [
              "[<matplotlib.lines.Line2D at 0x7fe7c16e7b50>]"
            ]
          },
          "metadata": {},
          "execution_count": 21
        },
        {
          "output_type": "display_data",
          "data": {
            "image/png": "[encoded data removed]",
            "text/plain": [
              "<Figure size 432x288 with 1 Axes>"
            ]
          },
          "metadata": {
            "needs_background": "light"
          }
        }
      ]
    },
    {
      "cell_type": "code",
      "source": [
        "losses = [r['val_loss'] for r in  history]\n",
        "plt.plot(losses, '-x')\n",
        "plt.xlabel('epoch')\n",
        "plt.ylabel('val_loss')\n",
        "plt.title('val_loss vs. epochs');"
      ],
      "metadata": {
        "id": "7S0VDdQeKUjl",
        "colab": {
          "base_uri": "https://localhost:8080/",
          "height": 295
        },
        "outputId": "67c93244-9096-49aa-9851-5c77b3534b87"
      },
      "execution_count": null,
      "outputs": [
        {
          "output_type": "display_data",
          "data": {
            "image/png": "[encoded data removed]",
            "text/plain": [
              "<Figure size 432x288 with 1 Axes>"
            ]
          },
          "metadata": {
            "needs_background": "light"
          }
        }
      ]
    },
    {
      "cell_type": "code",
      "source": [
        "def predict_single(x, model):\n",
        "    xb = x.unsqueeze(0)\n",
        "    return model(x).item()"
      ],
      "metadata": {
        "id": "fugdCCL7MUCB"
      },
      "execution_count": null,
      "outputs": []
    },
    {
      "cell_type": "code",
      "source": [
        "x, target = val_ds[10]\n",
        "pred = predict_single(x, model)\n",
        "print(\"Input: \", x)\n",
        "print(\"Target: \", target.item())\n",
        "print(\"Prediction:\", pred)"
      ],
      "metadata": {
        "colab": {
          "base_uri": "https://localhost:8080/"
        },
        "id": "7QigMHM_MWoy",
        "outputId": "c4b4e45d-faf1-4081-f345-4db12fec1439"
      },
      "execution_count": null,
      "outputs": [
        {
          "output_type": "stream",
          "name": "stdout",
          "text": [
            "Input:  tensor([ 3.5560, 10.5556, 13.3333,  0.0000,  1.0000])\n",
            "Target:  16.66666603088379\n",
            "Prediction: -2.6577115058898926\n"
          ]
        }
      ]
    },
    {
      "cell_type": "code",
      "source": [
        "torch.save(model.state_dict(), 'WW2-weather-linear.pth')"
      ],
      "metadata": {
        "id": "-whY6DHOX5Ku"
      },
      "execution_count": null,
      "outputs": []
    }
  ]
}