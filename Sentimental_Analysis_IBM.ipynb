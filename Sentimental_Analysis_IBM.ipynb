{
  "nbformat": 4,
  "nbformat_minor": 0,
  "metadata": {
    "colab": {
      "provenance": [],
      "authorship_tag": "ABX9TyPsP39UXfYBXza7Q7GJu+c0",
      "include_colab_link": true
    },
    "kernelspec": {
      "name": "python3",
      "display_name": "Python 3"
    },
    "language_info": {
      "name": "python"
    }
  },
  "cells": [
    {
      "cell_type": "markdown",
      "metadata": {
        "id": "view-in-github",
        "colab_type": "text"
      },
      "source": [
        "<a href=\"https://colab.research.google.com/github/Akshayk10/MyProjects/blob/main/Sentimental_Analysis_IBM.ipynb\" target=\"_parent\"><img src=\"https://colab.research.google.com/assets/colab-badge.svg\" alt=\"Open In Colab\"/></a>"
      ]
    },
    {
      "cell_type": "markdown",
      "source": [
        "Mounting file from Google drive"
      ],
      "metadata": {
        "id": "hizQEQstWun0"
      }
    },
    {
      "cell_type": "code",
      "execution_count": null,
      "metadata": {
        "id": "j6fSJBjoq7FL",
        "colab": {
          "base_uri": "https://localhost:8080/"
        },
        "outputId": "c38ff9b5-6738-4e95-ac92-b749081b4038"
      },
      "outputs": [
        {
          "output_type": "stream",
          "name": "stdout",
          "text": [
            "Drive already mounted at /content/drive/; to attempt to forcibly remount, call drive.mount(\"/content/drive/\", force_remount=True).\n"
          ]
        }
      ],
      "source": [
        "from google.colab import drive\n",
        "drive.mount('/content/drive/')"
      ]
    },
    {
      "cell_type": "markdown",
      "source": [
        "Importing necessary Python Libraries"
      ],
      "metadata": {
        "id": "mywh-F8GW4k2"
      }
    },
    {
      "cell_type": "code",
      "source": [
        "import numpy as np\n",
        "import pandas as pd"
      ],
      "metadata": {
        "id": "qs4PTh-p5k_x"
      },
      "execution_count": null,
      "outputs": []
    },
    {
      "cell_type": "markdown",
      "source": [
        "Using Pandas library to understand data"
      ],
      "metadata": {
        "id": "1iZq2l1bW_EA"
      }
    },
    {
      "cell_type": "code",
      "source": [
        "data = pd.read_csv('/content/drive/MyDrive/Restaurant_Reviews.csv')"
      ],
      "metadata": {
        "id": "DJnTWTO4POOz"
      },
      "execution_count": null,
      "outputs": []
    },
    {
      "cell_type": "code",
      "source": [
        "data.shape\n"
      ],
      "metadata": {
        "colab": {
          "base_uri": "https://localhost:8080/"
        },
        "id": "CizBxuWyQy_b",
        "outputId": "5a6f77a9-523f-49ec-fbc6-e6ef421e00c9"
      },
      "execution_count": null,
      "outputs": [
        {
          "output_type": "execute_result",
          "data": {
            "text/plain": [
              "(1000, 2)"
            ]
          },
          "metadata": {},
          "execution_count": 27
        }
      ]
    },
    {
      "cell_type": "code",
      "source": [
        "data.columns"
      ],
      "metadata": {
        "colab": {
          "base_uri": "https://localhost:8080/"
        },
        "id": "NNUj0bLgQ30m",
        "outputId": "9d3b8172-706f-4f5e-c49f-55d565785c6e"
      },
      "execution_count": null,
      "outputs": [
        {
          "output_type": "execute_result",
          "data": {
            "text/plain": [
              "Index(['Review', 'Liked'], dtype='object')"
            ]
          },
          "metadata": {},
          "execution_count": 28
        }
      ]
    },
    {
      "cell_type": "code",
      "source": [
        "data.head"
      ],
      "metadata": {
        "colab": {
          "base_uri": "https://localhost:8080/"
        },
        "id": "veM3GHUeR8yB",
        "outputId": "f6a1d7cf-8b19-4901-e89d-0341b5ebda2b"
      },
      "execution_count": null,
      "outputs": [
        {
          "output_type": "execute_result",
          "data": {
            "text/plain": [
              "<bound method NDFrame.head of                                                 Review  Liked\n",
              "0                             Wow... Loved this place.      1\n",
              "1                                   Crust is not good.      0\n",
              "2            Not tasty and the texture was just nasty.      0\n",
              "3    Stopped by during the late May bank holiday of...      1\n",
              "4    The selection on the menu was great and so wer...      1\n",
              "..                                                 ...    ...\n",
              "995  I think food should have flavor and texture an...      0\n",
              "996                           Appetite instantly gone.      0\n",
              "997  Overall I was not impressed and would not go b...      0\n",
              "998  The whole experience was underwhelming, and I ...      0\n",
              "999  Then, as if I hadn't wasted enough of my life ...      0\n",
              "\n",
              "[1000 rows x 2 columns]>"
            ]
          },
          "metadata": {},
          "execution_count": 29
        }
      ]
    },
    {
      "cell_type": "code",
      "source": [
        "data.info"
      ],
      "metadata": {
        "colab": {
          "base_uri": "https://localhost:8080/"
        },
        "id": "Uq8a5aZhSD9O",
        "outputId": "c5a64acd-8895-4fe6-8b61-ce4a27c8b298"
      },
      "execution_count": null,
      "outputs": [
        {
          "output_type": "execute_result",
          "data": {
            "text/plain": [
              "<bound method DataFrame.info of                                                 Review  Liked\n",
              "0                             Wow... Loved this place.      1\n",
              "1                                   Crust is not good.      0\n",
              "2            Not tasty and the texture was just nasty.      0\n",
              "3    Stopped by during the late May bank holiday of...      1\n",
              "4    The selection on the menu was great and so wer...      1\n",
              "..                                                 ...    ...\n",
              "995  I think food should have flavor and texture an...      0\n",
              "996                           Appetite instantly gone.      0\n",
              "997  Overall I was not impressed and would not go b...      0\n",
              "998  The whole experience was underwhelming, and I ...      0\n",
              "999  Then, as if I hadn't wasted enough of my life ...      0\n",
              "\n",
              "[1000 rows x 2 columns]>"
            ]
          },
          "metadata": {},
          "execution_count": 30
        }
      ]
    },
    {
      "cell_type": "markdown",
      "source": [
        "Importing necessary NLP Libraries"
      ],
      "metadata": {
        "id": "SsAoOkKoXLBn"
      }
    },
    {
      "cell_type": "code",
      "source": [
        "import nltk\n",
        "import re\n",
        "nltk.download('stopwords')\n",
        "from nltk.corpus import stopwords\n",
        "from nltk.stem.porter import PorterStemmer"
      ],
      "metadata": {
        "id": "aNH5iNEASy8j",
        "colab": {
          "base_uri": "https://localhost:8080/"
        },
        "outputId": "7c592146-d325-4f11-c816-9223d0b7cb71"
      },
      "execution_count": null,
      "outputs": [
        {
          "output_type": "stream",
          "name": "stderr",
          "text": [
            "[nltk_data] Downloading package stopwords to /root/nltk_data...\n",
            "[nltk_data]   Package stopwords is already up-to-date!\n"
          ]
        }
      ]
    },
    {
      "cell_type": "markdown",
      "source": [
        "Text Preprocessing"
      ],
      "metadata": {
        "id": "SUfR2UzcAdtK"
      }
    },
    {
      "cell_type": "code",
      "source": [
        "corpus = []\n",
        "for i in range(0,1000):\n",
        "\n",
        "    review = re.sub(pattern='[^a-zA-z]',repl =' ',string = data['Review'][i])\n",
        "\n",
        "    review = review.lower()\n",
        "\n",
        "    review_words = review.split()\n",
        "\n",
        "    review_words = [word for word in review_words if not word in set(stopwords.words('english'))]\n",
        "\n",
        "    ps = PorterStemmer()\n",
        "    review_words = [ps.stem(word) for word in review_words]\n",
        "\n",
        "    review = ''.join(review)\n",
        "\n",
        "    corpus.append(review)\n"
      ],
      "metadata": {
        "id": "YAAqkdtu6uc0"
      },
      "execution_count": null,
      "outputs": []
    },
    {
      "cell_type": "code",
      "source": [
        "corpus[:1500]"
      ],
      "metadata": {
        "colab": {
          "base_uri": "https://localhost:8080/"
        },
        "id": "T6opMOzdEsZz",
        "outputId": "25457cc7-aad3-4593-86bc-00fd2786a9b5"
      },
      "execution_count": null,
      "outputs": [
        {
          "output_type": "execute_result",
          "data": {
            "text/plain": [
              "['wow    loved this place ',\n",
              " 'crust is not good ',\n",
              " 'not tasty and the texture was just nasty ',\n",
              " 'stopped by during the late may bank holiday off rick steve recommendation and loved it ',\n",
              " 'the selection on the menu was great and so were the prices ',\n",
              " 'now i am getting angry and i want my damn pho ',\n",
              " 'honeslty it didn t taste that fresh  ',\n",
              " 'the potatoes were like rubber and you could tell they had been made up ahead of time being kept under a warmer ',\n",
              " 'the fries were great too ',\n",
              " 'a great touch ',\n",
              " 'service was very prompt ',\n",
              " 'would not go back ',\n",
              " 'the cashier had no care what so ever on what i had to say it still ended up being wayyy overpriced ',\n",
              " 'i tried the cape cod ravoli  chicken  with cranberry   mmmm ',\n",
              " 'i was disgusted because i was pretty sure that was human hair ',\n",
              " 'i was shocked because no signs indicate cash only ',\n",
              " 'highly recommended ',\n",
              " 'waitress was a little slow in service ',\n",
              " 'this place is not worth your time  let alone vegas ',\n",
              " 'did not like at all ',\n",
              " 'the burrittos blah ',\n",
              " 'the food  amazing ',\n",
              " 'service is also cute ',\n",
              " 'i could care less    the interior is just beautiful ',\n",
              " 'so they performed ',\n",
              " 'that s right    the red velvet cake     ohhh this stuff is so good ',\n",
              " ' name ',\n",
              " 'this hole in the wall has great mexican street tacos  and friendly staff ',\n",
              " 'took an hour to get our food only   tables in restaurant my food was luke warm  our sever was running around like he was totally overwhelmed ',\n",
              " 'the worst was the salmon sashimi ',\n",
              " 'also there are combos like a burger  fries  and beer for    which is a decent deal ',\n",
              " 'this was like the final blow ',\n",
              " 'i found this place by accident and i could not be happier ',\n",
              " 'seems like a good quick place to grab a bite of some familiar pub food  but do yourself a favor and look elsewhere ',\n",
              " 'overall  i like this place a lot ',\n",
              " 'the only redeeming quality of the restaurant was that it was very inexpensive ',\n",
              " 'ample portions and good prices ',\n",
              " 'poor service  the waiter made me feel like i was stupid every time he came to the table ',\n",
              " 'my first visit to hiro was a delight ',\n",
              " 'service sucks ',\n",
              " 'the shrimp tender and moist ',\n",
              " 'there is not a deal good enough that would drag me into that establishment again ',\n",
              " 'hard to judge whether these sides were good because we were grossed out by the melted styrofoam and didn t want to eat it for fear of getting sick ',\n",
              " 'on a positive note  our server was very attentive and provided great service ',\n",
              " 'frozen pucks of disgust  with some of the worst people behind the register ',\n",
              " 'the only thing i did like was the prime rib and dessert section ',\n",
              " 'it s too bad the food is so damn generic ',\n",
              " 'the burger is good beef  cooked just right ',\n",
              " 'if you want a sandwich just go to any firehouse     ',\n",
              " 'my side greek salad with the greek dressing was so tasty  and the pita and hummus was very refreshing ',\n",
              " 'we ordered the duck rare and it was pink and tender on the inside with a nice char on the outside ',\n",
              " 'he came running after us when he realized my husband had left his sunglasses on the table ',\n",
              " 'their chow mein is so good ',\n",
              " 'they have horrible attitudes towards customers  and talk down to each one when customers don t enjoy their food ',\n",
              " 'the portion was huge ',\n",
              " 'loved it   friendly servers  great food  wonderful and imaginative menu ',\n",
              " 'the heart attack grill in downtown vegas is an absolutely flat lined excuse for a restaurant ',\n",
              " 'not much seafood and like   strings of pasta at the bottom ',\n",
              " 'the salad had just the right amount of sauce to not over power the scallop  which was perfectly cooked ',\n",
              " 'the ripped banana was not only ripped  but petrified and tasteless ',\n",
              " 'at least think to refill my water before i struggle to wave you over for    minutes ',\n",
              " 'this place receives stars for their appetizers   ',\n",
              " 'the cocktails are all handmade and delicious ',\n",
              " 'we d definitely go back here again ',\n",
              " 'we are so glad we found this place ',\n",
              " 'great food and service  huge portions and they give a military discount ',\n",
              " 'always a great time at dos gringos ',\n",
              " 'update     went back for a second time and it was still just as amazing',\n",
              " 'we got the food and apparently they have never heard of salt and the batter on the fish was chewy ',\n",
              " 'a great way to finish a great ',\n",
              " 'the deal included   tastings and   drinks  and jeff went above and beyond what we expected ',\n",
              " ' name ',\n",
              " 'the service was meh ',\n",
              " 'it took over    min to get their milkshake  which was nothing more than chocolate milk ',\n",
              " 'i guess i should have known that this place would suck  because it is inside of the excalibur  but i didn t use my common sense ',\n",
              " 'the scallop dish is quite appalling for value as well ',\n",
              " '  times   very bad customer service  ',\n",
              " 'the sweet potato fries were very good and seasoned well ',\n",
              " 'today is the second time i ve been to their lunch buffet and it was pretty good ',\n",
              " 'there is so much good food in vegas that i feel cheated for wasting an eating opportunity by going to rice and company ',\n",
              " 'coming here is like experiencing an underwhelming relationship where both parties can t wait for the other person to ask to break up ',\n",
              " 'walked in and the place smelled like an old grease trap and only   others there eating ',\n",
              " 'the turkey and roast beef were bland ',\n",
              " 'this place has it ',\n",
              " 'the pan cakes everyone are raving about taste like a sugary disaster tailored to the palate of a six year old ',\n",
              " 'i love the pho and the spring rolls oh so yummy you have to try ',\n",
              " 'the poor batter to meat ratio made the chicken tenders very unsatisfying ',\n",
              " 'all i have to say is the food was amazing   ',\n",
              " 'omelets are to die for ',\n",
              " 'everything was fresh and delicious ',\n",
              " 'in summary  this was a largely disappointing dining experience ',\n",
              " 'it s like a really sexy party in your mouth  where you re outrageously flirting with the hottest person at the party ',\n",
              " 'never been to hard rock casino before  will never ever step forward in it again ',\n",
              " 'best breakfast buffet   ',\n",
              " 'say bye bye to your tip lady ',\n",
              " 'we ll never go again ',\n",
              " 'will be back again ',\n",
              " 'food arrived quickly ',\n",
              " 'it was not good ',\n",
              " 'on the up side  their cafe serves really good food ',\n",
              " 'our server was fantastic and when he found out the wife loves roasted garlic and bone marrow  he added extra to our meal and another marrow to go ',\n",
              " 'the only good thing was our waiter  he was very helpful and kept the bloddy mary s coming ',\n",
              " 'best buffet in town  for the price you cannot beat it ',\n",
              " 'i loved their mussels cooked in this wine reduction  the duck was tender  and their potato dishes were delicious ',\n",
              " 'this is one of the better buffets that i have been to ',\n",
              " 'so we went to tigerlilly and had a fantastic afternoon ',\n",
              " 'the food was delicious  our bartender was attentive and personable and we got a great deal ',\n",
              " 'the ambience is wonderful and there is music playing ',\n",
              " 'will go back next trip out ',\n",
              " 'sooooo good  ',\n",
              " 'real sushi lovers  let s be honest   yama is not that good ',\n",
              " 'at least   min passed in between us ordering and the food arriving  and it wasn t that busy ',\n",
              " 'this is a really fantastic thai restaurant which is definitely worth a visit ',\n",
              " 'nice  spicy and tender ',\n",
              " 'good prices ',\n",
              " 'check it out ',\n",
              " 'it was pretty gross ',\n",
              " 'i ve had better atmosphere ',\n",
              " 'kind of hard to mess up a steak but they did ',\n",
              " 'although i very much liked the look and sound of this place  the actual experience was a bit disappointing ',\n",
              " 'i just don t know how this place managed to served the blandest food i have ever eaten when they are preparing indian cuisine ',\n",
              " 'worst service to boot  but that is the least of their worries ',\n",
              " 'service was fine and the waitress was friendly ',\n",
              " 'the guys all had steaks  and our steak loving son who has had steak at the best and worst places said it was the best steak he s ever eaten ',\n",
              " 'we thought you d have to venture further away to get good sushi  but this place really hit the spot that night ',\n",
              " 'host staff were  for lack of a better word  bitches ',\n",
              " 'bland    not a liking this place for a number of reasons and i don t want to waste time on bad reviewing   i ll leave it at that   ',\n",
              " 'phenomenal food  service and ambiance ',\n",
              " 'i wouldn t return ',\n",
              " 'definitely worth venturing off the strip for the pork belly  will return next time i m in vegas ',\n",
              " 'this place is way too overpriced for mediocre food ',\n",
              " 'penne vodka excellent ',\n",
              " 'they have a good selection of food including a massive meatloaf sandwich  a crispy chicken wrap  a delish tuna melt and some tasty burgers ',\n",
              " 'the management is rude ',\n",
              " 'delicious nyc bagels  good selections of cream cheese  real lox with capers even ',\n",
              " 'great subway  in fact it s so good when you come here every other subway will not meet your expectations ',\n",
              " 'i had a seriously solid breakfast here ',\n",
              " 'this is one of the best bars with food in vegas ',\n",
              " 'he was extremely rude and really  there are so many other restaurants i would love to dine at during a weekend in vegas ',\n",
              " 'my drink was never empty and he made some really great menu suggestions ',\n",
              " 'don t do it    ',\n",
              " 'the waiter wasn t helpful or friendly and rarely checked on us ',\n",
              " 'my husband and i ate lunch here and were very disappointed with the food and service ',\n",
              " 'and the red curry had so much bamboo shoots and wasn t very tasty to me ',\n",
              " 'nice blanket of moz over top but i feel like this was done to cover up the subpar food ',\n",
              " 'the bathrooms are clean and the place itself is well decorated ',\n",
              " 'the menu is always changing  food quality is going down   service is extremely slow ',\n",
              " 'the service was a little slow   considering that were served by   people servers so the food was coming in a slow pace ',\n",
              " 'i give it   thumbs down',\n",
              " 'we watched our waiter pay a lot more attention to other tables and ignore us ',\n",
              " 'my fianc  and i came in the middle of the day and we were greeted and seated right away ',\n",
              " 'this is a great restaurant at the mandalay bay ',\n",
              " 'we waited for forty five minutes in vain ',\n",
              " 'crostini that came with the salad was stale ',\n",
              " 'some highlights   great quality nigiri here ',\n",
              " 'the staff is friendly and the joint is always clean ',\n",
              " 'this was a different cut than the piece the other day but still wonderful and tender s well as well flavored ',\n",
              " 'i ordered the voodoo pasta and it was the first time i d had really excellent pasta since going gluten free several years ago ',\n",
              " 'this place is good ',\n",
              " 'unfortunately  we must have hit the bakery on leftover day because everything we ordered was stale ',\n",
              " 'i came back today since they relocated and still not impressed ',\n",
              " 'i was seated immediately ',\n",
              " 'their menu is diverse  and reasonably priced ',\n",
              " 'avoid at all cost ',\n",
              " 'restaurant is always full but never a wait ',\n",
              " 'delicious  ',\n",
              " 'this place is hands down one of the best places to eat in the phoenix metro area ',\n",
              " 'so don t go there if you are looking for good food   ',\n",
              " 'i ve never been treated so bad ',\n",
              " 'bacon is hella salty ',\n",
              " 'we also ordered the spinach and avocado salad  the ingredients were sad and the dressing literally had zero taste ',\n",
              " 'this really is how vegas fine dining used to be  right down to the menus handed to the ladies that have no prices listed ',\n",
              " 'the waitresses are very friendly ',\n",
              " 'lordy  the khao soi is a dish that is not to be missed for curry lovers ',\n",
              " 'everything on the menu is terrific and we were also thrilled that they made amazing accommodations for our vegetarian daughter ',\n",
              " 'perhaps i caught them on an off night judging by the other reviews  but i m not inspired to go back ',\n",
              " 'the service here leaves a lot to be desired ',\n",
              " 'the atmosphere is modern and hip  while maintaining a touch of coziness ',\n",
              " 'not a weekly haunt  but definitely a place to come back to every once in a while ',\n",
              " 'we literally sat there for    minutes with no one asking to take our order ',\n",
              " 'the burger had absolutely no flavor   the meat itself was totally bland  the burger was overcooked and there was no charcoal flavor ',\n",
              " 'i also decided not to send it back because our waitress looked like she was on the verge of having a heart attack ',\n",
              " 'i dressed up to be treated so rudely ',\n",
              " 'it was probably dirt ',\n",
              " 'love this place  hits the spot when i want something healthy but not lacking in quantity or flavor ',\n",
              " 'i ordered the lemon raspberry ice cocktail which was also incredible ',\n",
              " 'the food sucked  which we expected but it sucked more than we could have imagined ',\n",
              " 'interesting decor ',\n",
              " 'what i really like there is the crepe station ',\n",
              " 'also were served hot bread and butter  and home made potato chips with bacon bits on top    very original and very good ',\n",
              " 'you can watch them preparing the delicious food  ',\n",
              " 'both of the egg rolls were fantastic ',\n",
              " 'when my order arrived  one of the gyros was missing ',\n",
              " 'i had a salad with the wings  and some ice cream for dessert and left feeling quite satisfied ',\n",
              " 'i m not really sure how joey s was voted best hot dog in the valley by readers of phoenix magazine ',\n",
              " 'the best place to go for a tasty bowl of pho ',\n",
              " 'the live music on fridays totally blows ',\n",
              " 'i ve never been more insulted or felt disrespected ',\n",
              " 'very friendly staff ',\n",
              " 'it is worth the drive ',\n",
              " 'i had heard good things about this place  but it exceeding every hope i could have dreamed of ',\n",
              " 'food was great and so was the serivce ',\n",
              " 'the warm beer didn t help ',\n",
              " 'great brunch spot ',\n",
              " 'service is friendly and inviting ',\n",
              " 'very good lunch spot ',\n",
              " 'i ve lived here since      and this was the first  and last  time i ve stepped foot into this place ',\n",
              " 'the worst experience ever ',\n",
              " 'must have been an off night at this place ',\n",
              " 'the sides are delish   mixed mushrooms  yukon gold puree  white corn   beateous ',\n",
              " 'if that bug never showed up i would have given a   for sure  but on the other side of the wall where this bug was climbing was the kitchen ',\n",
              " 'for about    minutes  we we re waiting for her salad when we realized that it wasn t coming any time soon ',\n",
              " 'my friend loved the salmon tartar ',\n",
              " 'won t go back ',\n",
              " 'extremely tasty ',\n",
              " 'waitress was good though ',\n",
              " 'soggy and not good ',\n",
              " 'the jamaican mojitos are delicious ',\n",
              " 'which are small and not worth the price ',\n",
              " ' name ',\n",
              " 'the shower area is outside so you can only rinse  not take a full shower  unless you don t mind being nude for everyone to see ',\n",
              " 'the service was a bit lacking ',\n",
              " 'lobster bisque  bussell sprouts  risotto  filet all needed salt and pepper  and of course there is none at the tables ',\n",
              " 'hopefully this bodes for them going out of business and someone who can cook can come in ',\n",
              " 'it was either too cold  not enough flavor or just bad ',\n",
              " 'i loved the bacon wrapped dates ',\n",
              " 'this is an unbelievable bargain ',\n",
              " 'the folks at otto always make us feel so welcome and special ',\n",
              " 'as for the  mains   also uninspired ',\n",
              " 'this is the place where i first had pho and it was amazing  ',\n",
              " 'this wonderful experience made this place a must stop whenever we are in town again ',\n",
              " 'if the food isn t bad enough for you  then enjoy dealing with the world s worst annoying drunk people ',\n",
              " 'very very fun chef ',\n",
              " 'ordered a double cheeseburger   got a single patty that was falling apart  picture uploaded  yeah  still sucks ',\n",
              " 'great place to have a couple drinks and watch any and all sporting events as the walls are covered with tv s ',\n",
              " 'if it were possible to give them zero stars  they d have it ',\n",
              " 'the descriptions said  yum yum sauce  and another said  eel sauce   yet another said  spicy mayo    well none of the rolls had sauces on them ',\n",
              " 'i d say that would be the hardest decision    honestly  all of m s dishes taste how they are supposed to taste  amazing  ',\n",
              " 'if she had not rolled the eyes we may have stayed    not sure if we will go back and try it again ',\n",
              " 'everyone is very attentive  providing excellent customer service ',\n",
              " 'horrible   don t waste your time and money ',\n",
              " 'now this dish was quite flavourful ',\n",
              " 'by this time our side of the restaurant was almost empty so there was no excuse ',\n",
              " ' it wasn t busy either  also  the building was freezing cold ',\n",
              " 'like the other reviewer said  you couldn t pay me to eat at this place again  ',\n",
              " ' drinks took close to    minutes to come out at one point ',\n",
              " 'seriously flavorful delights  folks ',\n",
              " 'much better than the other ayce sushi place i went to in vegas ',\n",
              " 'the lighting is just dark enough to set the mood ',\n",
              " 'based on the sub par service i received and no effort to show their gratitude for my business i won t be going back ',\n",
              " 'owner s are really great people  ',\n",
              " 'there is nothing privileged about working eating there ',\n",
              " 'the greek dressing was very creamy and flavorful ',\n",
              " 'overall  i don t think that i would take my parents to this place again because they made most of the similar complaints that i silently felt too ',\n",
              " 'now the pizza itself was good the peanut sauce was very tasty ',\n",
              " 'we had   at our table and the service was pretty fast ',\n",
              " 'fantastic service here ',\n",
              " 'i as well would ve given godfathers zero stars if possible ',\n",
              " 'they know how to make them here ',\n",
              " 'very tough and very short on flavor ',\n",
              " 'i hope this place sticks around ',\n",
              " 'i have been in more than a few bars in vegas  and do not ever recall being charged for tap water ',\n",
              " 'the restaurant atmosphere was exquisite ',\n",
              " 'good service  very clean  and inexpensive  to boot ',\n",
              " 'the seafood was fresh and generous in portion ',\n",
              " 'plus  it s only   bucks ',\n",
              " 'the service was not up to par  either ',\n",
              " 'thus far  have only visited twice and the food was absolutely delicious each time ',\n",
              " 'just as good as when i had it more than a year ago ',\n",
              " 'for a self proclaimed coffee cafe  i was wildly disappointed ',\n",
              " 'the veggitarian platter is out of this world ',\n",
              " 'you cant go wrong with any of the food here ',\n",
              " 'you can t beat that ',\n",
              " 'stopped by this place while in madison for the ironman  very friendly  kind staff ',\n",
              " 'the chefs were friendly and did a good job ',\n",
              " 'i ve had better  not only from dedicated boba tea spots  but even from jenni pho ',\n",
              " 'i liked the patio and the service was outstanding ',\n",
              " 'the goat taco didn t skimp on the meat and wow what flavor ',\n",
              " 'i think not again',\n",
              " 'i had the mac salad and it was pretty bland so i will not be getting that again ',\n",
              " 'i went to bachi burger on a friend s recommendation and was not disappointed ',\n",
              " 'service stinks here ',\n",
              " 'i waited and waited ',\n",
              " 'this place is not quality sushi  it is not a quality restaurant ',\n",
              " 'i would definitely recommend the wings as well as the pizza ',\n",
              " 'great pizza and salads ',\n",
              " 'things that went wrong    they burned the saganaki ',\n",
              " 'we waited an hour for what was a breakfast i could have done     times better at home ',\n",
              " 'this place is amazing ',\n",
              " 'i hate to disagree with my fellow yelpers  but my husband and i were so disappointed with this place ',\n",
              " 'waited   hours   never got either of our pizzas as many other around us who came in later did ',\n",
              " 'just don t know why they were so slow ',\n",
              " 'the staff is great  the food is delish  and they have an incredible beer selection ',\n",
              " 'i live in the neighborhood so i am disappointed i won t be back here  because it is a convenient location ',\n",
              " 'i didn t know pulled pork could be soooo delicious ',\n",
              " 'you get incredibly fresh fish  prepared with care ',\n",
              " 'before i go in to why i gave a   star rating please know that this was my third time eating at bachi burger before writing a review ',\n",
              " 'i love the fact that everything on their menu is worth it ',\n",
              " 'never again will i be dining at this place ',\n",
              " 'the food was excellent and service was very good ',\n",
              " 'good beer   drink selection and good food selection ',\n",
              " 'please stay away from the shrimp stir fried noodles ',\n",
              " 'the potato chip order was sad    i could probably count how many chips were in that box and it was probably around    ',\n",
              " 'food was really boring ',\n",
              " 'good service check ',\n",
              " 'this greedy corporation will never see another dime from me ',\n",
              " 'will never  ever go back ',\n",
              " 'as much as i d like to go back  i can t get passed the atrocious service and will never return ',\n",
              " 'in the summer  you can dine in a charming outdoor patio   so very delightful ',\n",
              " 'i did not expect this to be so good ',\n",
              " 'fantastic food ',\n",
              " 'she ordered a toasted english muffin that came out untoasted ',\n",
              " 'the food was very good ',\n",
              " 'never going back ',\n",
              " 'great food for the price  which is very high quality and house made ',\n",
              " 'the bus boy on the other hand was so rude ',\n",
              " 'by this point  my friends and i had basically figured out this place was a joke and didn t mind making it publicly and loudly known ',\n",
              " 'back to good bbq  lighter fare  reasonable pricing and tell the public they are back to the old ways ',\n",
              " 'and considering the two of us left there very full and happy for about      you just can t go wrong ',\n",
              " 'all the bread is made in house ',\n",
              " 'the only downside is the service ',\n",
              " 'also  the fries are without a doubt the worst fries i ve ever had ',\n",
              " 'service was exceptional and food was a good as all the reviews ',\n",
              " 'a couple of months later  i returned and had an amazing meal ',\n",
              " 'favorite place in town for shawarrrrrrma      ',\n",
              " 'the black eyed peas and sweet potatoes    unreal ',\n",
              " 'you won t be disappointed ',\n",
              " 'they could serve it with just the vinaigrette and it may make for a better overall dish  but it was still very good ',\n",
              " 'i go to far too many places and i ve never seen any restaurant that serves a   egg breakfast  especially for       ',\n",
              " 'when my mom and i got home she immediately got sick and she only had a few bites of salad ',\n",
              " 'the servers are not pleasant to deal with and they don t always honor pizza hut coupons ',\n",
              " 'both of them were truly unbelievably good  and i am so glad we went back ',\n",
              " 'we had fantastic service  and were pleased by the atmosphere ',\n",
              " 'everything was gross ',\n",
              " 'i love this place ',\n",
              " 'great service and food ',\n",
              " 'first   the bathrooms at this location were dirty  seat covers were not replenished   just plain yucky   ',\n",
              " 'the burger    i got the  gold standard  a     burger and was kind of disappointed ',\n",
              " 'omg  the food was delicioso ',\n",
              " 'there is nothing authentic about this place ',\n",
              " 'the spaghetti is nothing special whatsoever ',\n",
              " 'of all the dishes  the salmon was the best  but all were great ',\n",
              " 'the vegetables are so fresh and the sauce feels like authentic thai ',\n",
              " 'it s worth driving up from tucson ',\n",
              " 'the selection was probably the worst i ve seen in vegas     there was none ',\n",
              " 'pretty good beer selection too ',\n",
              " 'this place is like chipotle  but better ',\n",
              " 'classy warm atmosphere  fun and fresh appetizers  succulent steaks  baseball steak     ',\n",
              " '  stars for the brick oven bread app ',\n",
              " 'i have eaten here multiple times  and each time the food was delicious ',\n",
              " 'we sat another ten minutes and finally gave up and left ',\n",
              " 'he was terrible ',\n",
              " 'everyone is treated equally special ',\n",
              " 'it shouldn t take    min for pancakes and eggs ',\n",
              " 'it was delicious   ',\n",
              " 'on the good side  the staff was genuinely pleasant and enthusiastic   a real treat ',\n",
              " 'sadly  gordon ramsey s steak is a place we shall sharply avoid during our next trip to vegas ',\n",
              " 'as always the evening was wonderful and the food delicious ',\n",
              " 'best fish i ve ever had in my life ',\n",
              " ' the bathroom is just next door and very nice  ',\n",
              " 'the buffet is small and all the food they offered was bland ',\n",
              " 'this is an outstanding little restaurant with some of the best food i have ever tasted ',\n",
              " 'pretty cool i would say ',\n",
              " 'definitely a turn off for me   i doubt i ll be back unless someone else is buying ',\n",
              " 'server did a great job handling our large rowdy table ',\n",
              " 'i find wasting food to be despicable  but this just wasn t food ',\n",
              " 'my wife had the lobster bisque soup which was lukewarm ',\n",
              " 'would come back again if i had a sushi craving while in vegas ',\n",
              " 'the staff are great  the ambiance is great ',\n",
              " 'he deserves   stars ',\n",
              " 'i left with a stomach ache and felt sick the rest of the day ',\n",
              " 'they dropped more than the ball ',\n",
              " 'the dining space is tiny  but elegantly decorated and comfortable ',\n",
              " 'they will customize your order any way you d like  my usual is eggplant with green bean stir fry  love it ',\n",
              " 'and the beans and rice were mediocre at best ',\n",
              " 'best tacos in town by far  ',\n",
              " 'i took back my money and got outta there ',\n",
              " 'in an interesting part of town  this place is amazing ',\n",
              " 'rude   inconsiderate management ',\n",
              " 'the staff are now not as friendly  the wait times for being served are horrible  no one even says hi for the first    minutes ',\n",
              " 'i won t be back ',\n",
              " 'they have great dinners ',\n",
              " 'the service was outshining   i definitely recommend the halibut ',\n",
              " 'the food was terrible ',\n",
              " 'will never ever go back and have told many people what had happened ',\n",
              " 'i don t recommend unless your car breaks down in front of it and you are starving ',\n",
              " 'i will come back here every time i m in vegas ',\n",
              " 'this place deserves one star and     has to do with the food ',\n",
              " 'this is a disgrace ',\n",
              " 'def coming back to bowl next time',\n",
              " 'if you want healthy authentic or ethic food  try this place ',\n",
              " 'i will continue to come here on ladies night andddd date night     highly recommend this place to anyone who is in the area ',\n",
              " 'i have been here several times in the past  and the experience has always been great ',\n",
              " 'we walked away stuffed and happy about our first vegas buffet experience ',\n",
              " 'service was excellent and prices are pretty reasonable considering this is vegas and located inside the crystals shopping mall by aria ',\n",
              " 'to summarize    the food was incredible  nay  transcendant    but nothing brings me joy quite like the memory of the pneumatic condiment dispenser ',\n",
              " 'i m probably one of the few people to ever go to ians and not like it ',\n",
              " 'kids pizza is always a hit too with lots of great side dish options for the kiddos ',\n",
              " 'service is perfect and the family atmosphere is nice to see ',\n",
              " 'cooked to perfection and the service was impeccable ',\n",
              " 'this one is simply a disappointment ',\n",
              " 'overall  i was very disappointed with the quality of food at bouchon ',\n",
              " 'i don t have to be an accountant to know i m getting screwed ',\n",
              " 'great place to eat  reminds me of the little mom and pop shops in the san francisco bay area ',\n",
              " 'today was my first taste of a buldogis gourmet hot dog and i have to tell you it was more than i ever thought possible ',\n",
              " 'left very frustrated ',\n",
              " 'i ll definitely be in soon again ',\n",
              " 'food was really good and i got full petty fast ',\n",
              " 'service was fantastic ',\n",
              " 'total waste of time ',\n",
              " 'i don t know what kind it is but they have the best iced tea ',\n",
              " 'come hungry  leave happy and stuffed ',\n",
              " 'for service  i give them no stars ',\n",
              " 'i can assure you that you won t be disappointed ',\n",
              " 'i can take a little bad service but the food sucks ',\n",
              " 'gave up trying to eat any of the crust  teeth still sore  ',\n",
              " 'but now i was completely grossed out ',\n",
              " 'i really enjoyed eating here ',\n",
              " 'first time going but i think i will quickly become a regular ',\n",
              " 'our server was very nice  and even though he looked a little overwhelmed with all of our needs  he stayed professional and friendly until the end ',\n",
              " 'from what my dinner companions told me   everything was very fresh with nice texture and taste ',\n",
              " 'on the ground  right next to our table was a large  smeared  been stepped in and tracked everywhere pile of green bird poop ',\n",
              " 'furthermore  you can t even find hours of operation on the website ',\n",
              " 'we ve tried to like this place but after     times i think we re done with them ',\n",
              " 'what a mistake that was ',\n",
              " 'no complaints ',\n",
              " 'this is some seriously good pizza and i m an expert connisseur on the topic ',\n",
              " 'waiter was a jerk ',\n",
              " 'strike    who wants to be rushed ',\n",
              " 'these are the nicest restaurant owners i ve ever come across ',\n",
              " 'i never come again ',\n",
              " 'we loved the biscuits   ',\n",
              " 'service is quick and friendly ',\n",
              " 'ordered an appetizer and took    minutes and then the pizza another    minutes ',\n",
              " 'so absolutley fantastic ',\n",
              " 'it was a huge awkward    lb piece of cow that was    ths gristle and fat ',\n",
              " 'definitely will come back here again ',\n",
              " 'i like steiners because it s dark and it feels like a bar ',\n",
              " 'wow very spicy but delicious ',\n",
              " 'if you re not familiar  check it out ',\n",
              " 'i ll take my business dinner dollars elsewhere ',\n",
              " 'i d love to go back ',\n",
              " 'anyway  this fs restaurant has a wonderful breakfast lunch ',\n",
              " 'nothing special ',\n",
              " 'each day of the week they have a different deal and it s all so delicious ',\n",
              " 'not to mention the combination of pears  almonds and bacon is a big winner ',\n",
              " 'will not be back ',\n",
              " 'sauce was tasteless ',\n",
              " 'the food is delicious and just spicy enough  so be sure to ask for spicier if you prefer it that way ',\n",
              " 'my ribeye steak was cooked perfectly and had great mesquite flavor ',\n",
              " 'i don t think we ll be going back anytime soon ',\n",
              " 'food was so gooodd ',\n",
              " 'i am far from a sushi connoisseur but i can definitely tell the difference between good food and bad food and this was certainly bad food ',\n",
              " 'i was so insulted ',\n",
              " 'the last   times i had lunch here has been bad ',\n",
              " 'the chicken wings contained the driest chicken meat i have ever eaten ',\n",
              " 'the food was very good and i enjoyed every mouthful  an enjoyable relaxed venue for couples small family groups etc ',\n",
              " 'nargile   i think you are great ',\n",
              " 'best tater tots in the southwest ',\n",
              " 'we loved the place ',\n",
              " 'definitely not worth the    i paid ',\n",
              " 'the vanilla ice cream was creamy and smooth while the profiterole  choux  pastry was fresh enough ',\n",
              " 'im in az all the time and now have my new spot ',\n",
              " 'the manager was the worst ',\n",
              " 'the inside is really quite nice and very clean ',\n",
              " 'the food was outstanding and the prices were very reasonable ',\n",
              " 'i don t think i ll be running back to carly s anytime soon for food ',\n",
              " 'this is was due to the fact that it took    minutes to be acknowledged  then another    minutes to get our food   and they kept forgetting things ',\n",
              " 'love the margaritas  too ',\n",
              " 'this was my first and only vegas buffet and it did not disappoint ',\n",
              " 'very good  though ',\n",
              " 'the one down note is the ventilation could use some upgrading ',\n",
              " 'great pork sandwich ',\n",
              " 'don t waste your time here ',\n",
              " 'total letdown  i would much rather just go to the camelback flower shop and cartel coffee ',\n",
              " 'third  the cheese on my friend s burger was cold ',\n",
              " 'we enjoy their pizza and brunch ',\n",
              " 'the steaks are all well trimmed and also perfectly cooked ',\n",
              " 'we had a group of     when we claimed we would only have    and they handled us beautifully ',\n",
              " 'i loved it ',\n",
              " 'we asked for the bill to leave without eating and they didn t bring that either ',\n",
              " 'this place is a jewel in las vegas  and exactly what i ve been hoping to find in nearly ten years living here ',\n",
              " 'seafood was limited to boiled shrimp and crab legs but the crab legs definitely did not taste fresh ',\n",
              " 'the selection of food was not the best ',\n",
              " 'delicious and i will absolutely be back ',\n",
              " 'this isn t a small family restaurant  this is a fine dining establishment ',\n",
              " 'they had a toro tartare with a cavier that was extraordinary and i liked the thinly sliced wagyu with white truffle ',\n",
              " 'i dont think i will be back for a very long time ',\n",
              " 'it was attached to a gas station  and that is rarely a good sign ',\n",
              " 'how awesome is that ',\n",
              " 'i will be back many times soon ',\n",
              " 'the menu had so much good stuff on it i could not decide ',\n",
              " 'worse of all  he humiliated his worker right in front of me  bunch of horrible name callings ',\n",
              " 'conclusion  very filling meals ',\n",
              " 'their daily specials are always a hit with my group ',\n",
              " 'and then tragedy struck ',\n",
              " 'the pancake was also really good and pretty large at that ',\n",
              " 'this was my first crawfish experience  and it was delicious ',\n",
              " 'their monster chicken fried steak and eggs is my all time favorite ',\n",
              " 'waitress was sweet and funny ',\n",
              " 'i also had to taste my mom s multi grain pumpkin pancakes with pecan butter and they were amazing  fluffy  and delicious ',\n",
              " 'i d rather eat airline food  seriously ',\n",
              " 'cant say enough good things about this place ',\n",
              " 'the ambiance was incredible ',\n",
              " 'the waitress and manager are so friendly ',\n",
              " 'i would not recommend this place ',\n",
              " 'overall i wasn t very impressed with noca ',\n",
              " 'my gyro was basically lettuce only ',\n",
              " 'terrible service ',\n",
              " 'thoroughly disappointed ',\n",
              " 'i don t each much pasta  but i love the homemade  hand made pastas and thin pizzas here ',\n",
              " 'give it a try  you will be happy you did ',\n",
              " 'by far the best cheesecurds we have ever had ',\n",
              " 'reasonably priced also ',\n",
              " 'everything was perfect the night we were in ',\n",
              " 'the food is very good for your typical bar food ',\n",
              " 'it was a drive to get there ',\n",
              " 'at first glance it is a lovely bakery cafe   nice ambiance  clean  friendly staff ',\n",
              " 'anyway  i do not think i will go back there ',\n",
              " 'point your finger at any item on the menu  order it and you won t be disappointed ',\n",
              " 'oh this is such a thing of beauty  this restaurant ',\n",
              " 'if you haven t gone here go now ',\n",
              " 'a greasy  unhealthy meal ',\n",
              " 'first time there and might just be the last ',\n",
              " 'those burgers were amazing ',\n",
              " 'similarly  the delivery man did not say a word of apology when our food was    minutes late ',\n",
              " 'and it was way to expensive ',\n",
              " 'be sure to order dessert  even if you need to pack it to go   the tiramisu and cannoli are both to die for ',\n",
              " 'this was my first time and i can t wait until the next ',\n",
              " 'the bartender was also nice ',\n",
              " 'everything was good and tasty ',\n",
              " 'this place is two thumbs up    way up ',\n",
              " 'the best place in vegas for breakfast  just check out a sat  or sun ',\n",
              " 'if you love authentic mexican food and want a whole bunch of interesting  yet delicious meats to choose from  you need to try this place ',\n",
              " 'terrible management ',\n",
              " 'an excellent new restaurant by an experienced frenchman ',\n",
              " 'if there were zero stars i would give it zero stars ',\n",
              " 'great steak  great sides  great wine  amazing desserts ',\n",
              " 'worst martini ever ',\n",
              " 'the steak and the shrimp are in my opinion the best entrees at gc ',\n",
              " 'i had the opportunity today to sample your amazing pizzas ',\n",
              " 'we waited for thirty minutes to be seated  although there were   vacant tables and we were the only folks waiting  ',\n",
              " 'the yellowtail carpaccio was melt in your mouth fresh ',\n",
              " 'i won t try going back there even if it s empty ',\n",
              " 'no  i m going to eat the potato that i found some strangers hair in it ',\n",
              " 'just spicy enough   perfect actually ',\n",
              " 'last night was my second time dining here and i was so happy i decided to go back ',\n",
              " 'not even a  hello  we will be right with you  ',\n",
              " 'the desserts were a bit strange ',\n",
              " 'my boyfriend and i came here for the first time on a recent trip to vegas and could not have been more pleased with the quality of food and service ',\n",
              " 'i really do recommend this place  you can go wrong with this donut place ',\n",
              " 'nice ambiance ',\n",
              " 'i would recommend saving room for this ',\n",
              " 'i guess maybe we went on an off night but it was disgraceful ',\n",
              " 'however  my recent experience at this particular location was not so good ',\n",
              " 'i know this is not like the other restaurants at all  something is very off here ',\n",
              " 'avoid this establishment ',\n",
              " 'i think this restaurant suffers from not trying hard enough ',\n",
              " 'all of the tapas dishes were delicious ',\n",
              " 'i  heart  this place ',\n",
              " 'my salad had a bland vinegrette on the baby greens and hearts of palm ',\n",
              " 'after two i felt disgusting ',\n",
              " 'a good time ',\n",
              " 'i believe that this place is a great stop for those with a huge belly and hankering for sushi ',\n",
              " 'generous portions and great taste ',\n",
              " 'i will never go back to this place and will never ever recommended this place to anyone ',\n",
              " 'the servers went back and forth several times  not even so much as an  are you being helped  ',\n",
              " 'food was delicious ',\n",
              " 'an hour    seriously ',\n",
              " 'i consider this theft ',\n",
              " 'eew    this location needs a complete overhaul ',\n",
              " 'we recently witnessed her poor quality of management towards other guests as well ',\n",
              " 'waited and waited and waited ',\n",
              " 'he also came back to check on us regularly  excellent service ',\n",
              " 'our server was super nice and checked on us many times ',\n",
              " 'the pizza tasted old  super chewy in not a good way ',\n",
              " 'i swung in to give them a try but was deeply disappointed ',\n",
              " 'service was good and the company was better ',\n",
              " 'the staff are also very friendly and efficient ',\n",
              " 'as for the service  i m a fan  because it s quick and you re being served by some nice folks ',\n",
              " 'boy was that sucker dry   ',\n",
              " 'over rated ',\n",
              " 'if you look for authentic thai food  go else where ',\n",
              " 'their steaks are      recommended ',\n",
              " 'after i pulled up my car i waited for another    minutes before being acknowledged ',\n",
              " 'great food and great service in a clean and friendly setting ',\n",
              " 'all in all  i can assure you i ll be back ',\n",
              " 'i hate those things as much as cheap quality black olives ',\n",
              " 'my breakfast was perpared great  with a beautiful presentation of   giant slices of toast  lightly dusted with powdered sugar ',\n",
              " 'the kids play area is nasty ',\n",
              " 'great place fo take out or eat in ',\n",
              " 'the waitress was friendly and happy to accomodate for vegan veggie options ',\n",
              " 'omg i felt like i had never eaten thai food until this dish ',\n",
              " 'it was extremely  crumby  and pretty tasteless ',\n",
              " 'it was a pale color instead of nice and char and has no flavor ',\n",
              " 'the croutons also taste homemade which is an extra plus ',\n",
              " 'i got home to see the driest damn wings ever ',\n",
              " 'it ll be a regular stop on my trips to phoenix ',\n",
              " 'i really enjoyed crema caf  before they expanded  i even told friends they had the best breakfast ',\n",
              " 'not good for the money ',\n",
              " 'i miss it and wish they had one in philadelphia ',\n",
              " 'we got sitting fairly fast  but  ended up waiting    minutes just to place our order  another    minutes before the food arrived ',\n",
              " 'they also have the best cheese crisp in town ',\n",
              " 'good value  great food  great service ',\n",
              " 'couldn t ask for a more satisfying meal ',\n",
              " 'the food is good ',\n",
              " 'it was awesome ',\n",
              " 'i just wanted to leave ',\n",
              " 'we made the drive all the way from north scottsdale    and i was not one bit disappointed ',\n",
              " 'i will not be eating there again ',\n",
              " '     the owners really really need to quit being soooooo cheap let them wrap my freaking sandwich in two papers not one ',\n",
              " 'i checked out this place a couple years ago and was not impressed ',\n",
              " 'the chicken i got was definitely reheated and was only ok  the wedges were cold and soggy ',\n",
              " 'sorry  i will not be getting food from here anytime soon   ',\n",
              " 'an absolute must visit ',\n",
              " 'the cow tongue and cheek tacos are amazing ',\n",
              " 'my friend did not like his bloody mary ',\n",
              " 'despite how hard i rate businesses  its actually rare for me to give a   star ',\n",
              " 'they really want to make your experience a good one ',\n",
              " 'i will not return ',\n",
              " 'i had the chicken pho and it tasted very bland ',\n",
              " 'very disappointing   ',\n",
              " 'the grilled chicken was so tender and yellow from the saffron seasoning ',\n",
              " 'a drive thru means you do not want to wait around for half an hour for your food  but somehow when we end up going here they make us wait and wait ',\n",
              " 'pretty awesome place ',\n",
              " 'ambience is perfect ',\n",
              " 'best of luck to the rude and non customer service focused new management ',\n",
              " 'any grandmother can make a roasted chicken better than this one ',\n",
              " 'i asked multiple times for the wine list and after some time of being ignored i went to the hostess and got one myself ',\n",
              " 'the staff is always super friendly and helpful  which is especially cool when you bring two small boys and a baby ',\n",
              " 'four stars for the food   the guy in the blue shirt for his great vibe   still letting us in to eat  ',\n",
              " 'the roast beef sandwich tasted really good ',\n",
              " 'same evening  him and i are both drastically sick ',\n",
              " 'high quality chicken on the chicken caesar salad ',\n",
              " 'ordered burger rare came in we ll done ',\n",
              " 'we were promptly greeted and seated ',\n",
              " 'tried to go here for lunch and it was a madhouse ',\n",
              " 'i was proven dead wrong by this sushi bar  not only because the quality is great  but the service is fast and the food  impeccable ',\n",
              " 'after waiting an hour and being seated  i was not in the greatest of moods ',\n",
              " 'this is a good joint ',\n",
              " 'the macarons here are insanely good ',\n",
              " 'i m not eating here ',\n",
              " 'our waiter was very attentive  friendly  and informative ',\n",
              " 'maybe if they weren t cold they would have been somewhat edible ',\n",
              " 'this place has a lot of promise but fails to deliver ',\n",
              " 'very bad experience ',\n",
              " 'what a mistake ',\n",
              " 'food was average at best ',\n",
              " 'great food ',\n",
              " 'we won t be going back anytime soon ',\n",
              " 'very very disappointed ordered the     big bay plater ',\n",
              " 'great place to relax and have an awesome burger and beer ',\n",
              " 'it is perfect for a sit down family meal or get together with a few friends ',\n",
              " 'not much flavor to them  and very poorly constructed ',\n",
              " 'the patio seating was very comfortable ',\n",
              " 'the fried rice was dry as well ',\n",
              " 'hands down my favorite italian restaurant ',\n",
              " 'that just screams  legit  in my book   somethat s also pretty rare here in vegas ',\n",
              " 'it was just not a fun experience ',\n",
              " 'the atmosphere was great with a lovely duo of violinists playing songs we requested ',\n",
              " 'i personally love the hummus  pita  baklava  falafels and baba ganoush  it s amazing what they do with eggplant   ',\n",
              " 'very convenient  since we were staying at the mgm ',\n",
              " 'the owners are super friendly and the staff is courteous ',\n",
              " 'both great ',\n",
              " 'eclectic selection ',\n",
              " 'the sweet potato tots were good but the onion rings were perfection or as close as i have had ',\n",
              " 'the staff was very attentive ',\n",
              " 'and the chef was generous with his time  even came around twice so we can take pictures with him  ',\n",
              " 'the owner used to work at nobu  so this place is really similar for half the price ',\n",
              " 'google mediocre and i imagine smashburger will pop up ',\n",
              " 'dont go here ',\n",
              " 'i promise they won t disappoint ',\n",
              " 'as a sushi lover avoid this place by all means ',\n",
              " 'what a great double cheeseburger ',\n",
              " 'awesome service and food ',\n",
              " 'a fantastic neighborhood gem    ',\n",
              " 'i can t wait to go back ',\n",
              " 'the plantains were the worst i ve ever tasted ',\n",
              " 'it s a great place and i highly recommend it ',\n",
              " 'service was slow and not attentive ',\n",
              " 'i gave it   stars then  and i m giving it   stars now ',\n",
              " 'your staff spends more time talking to themselves than me ',\n",
              " 'dessert  panna cotta was amazing ',\n",
              " 'very good food  great atmosphere  ',\n",
              " 'damn good steak ',\n",
              " 'total brunch fail ',\n",
              " 'prices are very reasonable  flavors are spot on  the sauce is home made  and the slaw is not drenched in mayo ',\n",
              " 'the decor is nice  and the piano music soundtrack is pleasant ',\n",
              " 'the steak was amazing   rge fillet relleno was the best seafood plate i have ever had ',\n",
              " 'good food   good service  ',\n",
              " 'it was absolutely amazing ',\n",
              " 'i probably won t be back  to be honest ',\n",
              " 'will definitely be back ',\n",
              " 'the sergeant pepper beef sandwich with auju sauce is an excellent sandwich as well ',\n",
              " 'hawaiian breeze  mango magic  and pineapple delight are the smoothies that i ve tried so far and they re all good ',\n",
              " 'went for lunch   service was slow ',\n",
              " 'we had so much to say about the place before we walked in that he expected it to be amazing  but was quickly disappointed ',\n",
              " 'i was mortified ',\n",
              " 'needless to say  we will never be back here again ',\n",
              " 'anyways  the food was definitely not filling at all  and for the price you pay you should expect more ',\n",
              " 'the chips that came out were dripping with grease  and mostly not edible ',\n",
              " 'i wasn t really impressed with strip steak ',\n",
              " 'have been going since      and every meal has been awesome  ',\n",
              " 'our server was very nice and attentive as were the other serving staff ',\n",
              " 'the cashier was friendly and even brought the food out to me ',\n",
              " 'i work in the hospitality industry in paradise valley and have refrained from recommending cibo any longer ',\n",
              " 'the atmosphere here is fun ',\n",
              " 'would not recommend to others ',\n",
              " 'service is quick and even  to go  orders are just like we like it ',\n",
              " 'i mean really  how do you get so famous for your fish and chips when it s so terrible   ',\n",
              " 'that said  our mouths and bellies were still quite pleased ',\n",
              " 'not my thing ',\n",
              " '  thumbs up  ',\n",
              " 'if you are reading this please don t go there ',\n",
              " 'i loved the grilled pizza  reminded me of legit italian pizza ',\n",
              " 'only pros   large seating area  nice bar area  great simple drink menu  the best brick oven pizza with homemade dough ',\n",
              " 'they have a really nice atmosphere ',\n",
              " 'tonight i had the elk filet special   and it sucked ',\n",
              " 'after one bite  i was hooked ',\n",
              " 'we ordered some old classics and some new dishes after going there a few times and were sorely disappointed with everything ',\n",
              " 'cute  quaint  simple  honest ',\n",
              " 'the chicken was deliciously seasoned and had the perfect fry on the outside and moist chicken on the inside ',\n",
              " 'the food was great as always  compliments to the chef ',\n",
              " 'special thanks to dylan t  for the recommendation on what to order    all yummy for my tummy ',\n",
              " 'awesome selection of beer ',\n",
              " 'great food and awesome service ',\n",
              " 'one nice thing was that they added gratuity on the bill since our party was larger than   or    and they didn t expect more tip than that ',\n",
              " 'a fly was in my apple juice   a fly        ',\n",
              " 'the han nan chicken was also very tasty ',\n",
              " 'as for the service  i thought it was good ',\n",
              " 'the food was barely lukewarm  so it must have been sitting waiting for the server to bring it out to us ',\n",
              " 'ryan s bar is definitely one edinburgh establishment i won t be revisiting ',\n",
              " 'nicest chinese restaurant i ve been in a while ',\n",
              " 'overall  i like there food and the service ',\n",
              " 'they also now serve indian naan bread with hummus and some spicy pine nut sauce that was out of this world ',\n",
              " 'probably never coming back  and wouldn t recommend it ',\n",
              " 'friend s pasta    also bad  he barely touched it ',\n",
              " 'try them in the airport to experience some tasty food and speedy  friendly service ',\n",
              " 'i love the decor with the chinese calligraphy wall paper ',\n",
              " 'never had anything to complain about here ',\n",
              " 'the restaurant is very clean and has a family restaurant feel to it ',\n",
              " 'it was way over fried ',\n",
              " 'i m not sure how long we stood there but it was long enough for me to begin to feel awkwardly out of place ',\n",
              " 'when i opened the sandwich  i was impressed  but not in a good way ',\n",
              " 'will not be back ',\n",
              " 'there was a warm feeling with the service and i felt like their guest for a special treat ',\n",
              " 'an extensive menu provides lots of options for breakfast ',\n",
              " 'i always order from the vegetarian menu during dinner  which has a wide array of options to choose from ',\n",
              " 'i have watched their prices inflate  portions get smaller and management attitudes grow rapidly ',\n",
              " 'wonderful lil tapas and the ambience made me feel all warm and fuzzy inside ',\n",
              " 'i got to enjoy the seafood salad  with a fabulous vinegrette ',\n",
              " 'the wontons were thin  not thick and chewy  almost melt in your mouth ',\n",
              " 'level   spicy was perfect  where spice didn t over whelm the soup ',\n",
              " 'we were sat right on time and our server from the get go was fantastic ',\n",
              " 'main thing i didn t enjoy is that the crowd is of older crowd  around mid   s and up ',\n",
              " 'when i m on this side of town  this will definitely be a spot i ll hit up again ',\n",
              " 'i had to wait over    minutes to get my drink and longer to get   arepas ',\n",
              " 'this is a great place to eat ',\n",
              " 'the jalapeno bacon is soooo good ',\n",
              " 'the service was poor and thats being nice ',\n",
              " 'food was good  service was good  prices were good ',\n",
              " 'the place was not clean and the food oh so stale ',\n",
              " 'the chicken dishes are ok  the beef is like shoe leather ',\n",
              " 'but the service was beyond bad ',\n",
              " 'i m so happy to be here    ',\n",
              " 'tasted like dirt ',\n",
              " 'one of the few places in phoenix that i would definately go back to again  ',\n",
              " 'the block was amazing ',\n",
              " 'it s close to my house  it s low key  non fancy  affordable prices  good food ',\n",
              " '  both the hot   sour   the egg flower soups were absolutely   stars ',\n",
              " 'my sashimi was poor quality being soggy and tasteless ',\n",
              " 'great time   family dinner on a sunday night ',\n",
              " 'the food is not tasty at all  not to say its  real traditional hunan style  ',\n",
              " 'what did bother me  was the slow service ',\n",
              " 'the flair bartenders are absolutely amazing ',\n",
              " 'their frozen margaritas are way too sugary for my taste ',\n",
              " 'these were so good we ordered them twice ',\n",
              " 'so in a nutshell     the restaraunt smells like a combination of a dirty fish market and a sewer ',\n",
              " 'my girlfriend s veal was very bad ',\n",
              " 'unfortunately  it was not good ',\n",
              " 'i had a pretty satifying experience ',\n",
              " 'join the club and get awesome offers via email ',\n",
              " 'perfect for someone  me  who only likes beer ice cold  or in this case  even colder ',\n",
              " 'bland and flavorless is a good way of describing the barely tepid meat ',\n",
              " 'the chains  which i m no fan of  beat this place easily ',\n",
              " 'the nachos are a must have ',\n",
              " 'we will not be coming back ',\n",
              " 'i don t have very many words to say about this place  but it does everything pretty well ',\n",
              " 'the staff is super nice and very quick even with the crazy crowds of the downtown juries  lawyers  and court staff ',\n",
              " 'great atmosphere  friendly and fast service ',\n",
              " 'when i received my pita it was huge it did have a lot of meat in it so thumbs up there ',\n",
              " 'once your food arrives it s meh ',\n",
              " 'paying       for a hot dog and fries that looks like it came out of a kid s meal at the wienerschnitzel is not my idea of a good meal ',\n",
              " 'the classic maine lobster roll was fantastic ',\n",
              " 'my brother in law who works at the mall ate here same day  and guess what he was sick all night too ',\n",
              " 'so good i am going to have to review this place twice   once hereas a tribute to the place and once as a tribute to an event held here last night ',\n",
              " 'the chips and salsa were really good  the salsa was very fresh ',\n",
              " 'this place is great              ',\n",
              " 'mediocre food ',\n",
              " 'once you get inside you ll be impressed with the place ',\n",
              " 'i m super pissd ',\n",
              " 'and service was super friendly ',\n",
              " 'why are these sad little vegetables so overcooked ',\n",
              " 'this place was such a nice surprise ',\n",
              " 'they were golden crispy and delicious ',\n",
              " 'i had high hopes for this place since the burgers are cooked over a charcoal grill  but unfortunately the taste fell flat  way flat ',\n",
              " 'i could eat their bruschetta all day it is devine ',\n",
              " 'not a single employee came out to see if we were ok or even needed a water refill once they finally served us our food ',\n",
              " 'lastly  the mozzarella sticks  they were the best thing we ordered ',\n",
              " 'the first time i ever came here i had an amazing experience  i still tell people how awesome the duck was ',\n",
              " 'the server was very negligent of our needs and made us feel very unwelcome    i would not suggest this place ',\n",
              " 'the service was terrible though ',\n",
              " 'this place is overpriced  not consistent with their boba  and it really is overpriced ',\n",
              " 'it was packed  ',\n",
              " 'i love this place ',\n",
              " 'i can say that the desserts were yummy ',\n",
              " 'the food was terrible ',\n",
              " 'the seasonal fruit was fresh white peach puree ',\n",
              " 'it kept getting worse and worse so now i m officially done ',\n",
              " 'this place should honestly be blown up ',\n",
              " 'but i definitely would not eat here again ',\n",
              " 'do not waste your money here ',\n",
              " 'i love that they put their food in nice plastic containers as opposed to cramming it in little paper takeout boxes ',\n",
              " 'the cr pe was delicate and thin and moist ',\n",
              " 'awful service ',\n",
              " 'won t ever go here again ',\n",
              " 'food quality has been horrible ',\n",
              " 'for that price i can think of a few place i would have much rather gone ',\n",
              " 'the service here is fair at best ',\n",
              " 'i do love sushi  but i found kabuki to be over priced  over hip and under services ',\n",
              " 'do yourself a favor and stay away from this dish ',\n",
              " 'very poor service ',\n",
              " 'no one at the table thought the food was above average or worth the wait that we had for it ',\n",
              " 'best service and food ever  maria our server was so good and friendly she made our day ',\n",
              " 'they were excellent ',\n",
              " 'i paid the bill but did not tip because i felt the server did a terrible job ',\n",
              " 'just had lunch here and had a great experience ',\n",
              " 'i have never had such bland food which surprised me considering the article we read focused so much on their spices and flavor ',\n",
              " 'food is way overpriced and portions are fucking small ',\n",
              " 'i recently tried caballero s and i have been back every week since ',\n",
              " 'for    bucks a head  i really expect better food ',\n",
              " 'the food came out at a good pace ',\n",
              " 'i ate there twice on my last visit  and especially enjoyed the salmon salad ',\n",
              " 'i won t be back ',\n",
              " 'we could not believe how dirty the oysters were ',\n",
              " 'this place deserves no stars ',\n",
              " 'i would not recommend this place ',\n",
              " 'in fact i m going to round up to   stars  just because she was so awesome ',\n",
              " 'to my disbelief  each dish qualified as the worst version of these foods i have ever tasted ',\n",
              " 'bad day or not  i have a very low tolerance for rude customer service people  it is your job to be nice and polite  wash dishes otherwise  ',\n",
              " 'the potatoes were great and so was the biscuit ',\n",
              " 'i probably would not go here again ',\n",
              " 'so flavorful and has just the perfect amount of heat ',\n",
              " 'the price is reasonable and the service is great ',\n",
              " 'the wife hated her meal  coconut shrimp   and our friends really did not enjoy their meals  either ',\n",
              " 'my fella got the huevos rancheros and they didn t look too appealing ',\n",
              " 'went in for happy hour  great list of wines ',\n",
              " 'some may say this buffet is pricey but i think you get what you pay for and this place you are getting quite a lot ',\n",
              " 'i probably won t be coming back here ',\n",
              " 'worst food service i ve had in a while ',\n",
              " 'this place is pretty good  nice little vibe in the restaurant ',\n",
              " 'talk about great customer service of course we will be back ',\n",
              " 'hot dishes are not hot  cold dishes are close to room temp i watched staff prepare food with bare hands  no gloves everything is deep fried in oil ',\n",
              " 'i love their fries and their beans ',\n",
              " 'always a pleasure dealing with him ',\n",
              " 'they have a plethora of salads and sandwiches  and everything i ve tried gets my seal of approval ',\n",
              " 'this place is awesome if you want something light and healthy during the summer ',\n",
              " 'for sushi on the strip  this is the place to go ',\n",
              " 'the service was great  even the manager came and helped with our table ',\n",
              " 'the feel of the dining room was more college cooking course than high class dining and the service was slow at best ',\n",
              " 'i started this review with two stars  but i m editing it to give it only one ',\n",
              " 'this is the worst sushi i have ever eat besides costco s ',\n",
              " 'all in all an excellent restaurant highlighted by great service  a unique menu  and a beautiful setting ',\n",
              " 'my boyfriend and i sat at the bar and had a completely delightful experience ',\n",
              " 'weird vibe from owners ',\n",
              " 'there was hardly any meat ',\n",
              " 'i ve had better bagels from the grocery store ',\n",
              " 'go to place for gyros ',\n",
              " 'i love the owner chef  his one authentic japanese cool dude ',\n",
              " 'now the burgers aren t as good  the pizza which used to be amazing is doughy and flavorless ',\n",
              " 'i found a six inch long piece of wire in my salsa ',\n",
              " 'the service was terrible  food was mediocre ',\n",
              " 'we definately enjoyed ourselves ',\n",
              " 'i ordered albondigas soup   which was just warm   and tasted like tomato soup with frozen meatballs ',\n",
              " 'on three different occasions i asked for well done or medium well  and all three times i got the bloodiest piece of meat on my plate ',\n",
              " 'i had about two bites and refused to eat anymore ',\n",
              " 'the service was extremely slow ',\n",
              " 'after    minutes wait  i got a table ',\n",
              " 'seriously killer hot chai latte ',\n",
              " 'no allergy warnings on the menu  and the waitress had absolutely no clue as to which meals did or did not contain peanuts ',\n",
              " 'my boyfriend tried the mediterranean chicken salad and fell in love ',\n",
              " 'their rotating beers on tap is also a highlight of this place ',\n",
              " 'pricing is a bit of a concern at mellow mushroom ',\n",
              " 'worst thai ever ',\n",
              " 'if you stay in vegas you must get breakfast here at least once ',\n",
              " 'i want to first say our server was great and we had perfect service ',\n",
              " 'the pizza selections are good ',\n",
              " 'i had strawberry tea  which was good ',\n",
              " 'highly unprofessional and rude to a loyal patron ',\n",
              " 'overall  a great experience ',\n",
              " 'spend your money elsewhere ',\n",
              " 'their regular toasted bread was equally satisfying with the occasional pats of butter    mmmm    ',\n",
              " 'the buffet at bellagio was far from what i anticipated ',\n",
              " 'and the drinks are weak  people ',\n",
              " ' name ',\n",
              " 'also  i feel like the chips are bought  not made in house ',\n",
              " 'after the disappointing dinner we went elsewhere for dessert ',\n",
              " 'the chips and sals a here is amazing                   ',\n",
              " 'we won t be returning ',\n",
              " 'this is my new fav vegas buffet spot ',\n",
              " 'i seriously cannot believe that the owner has so many unexperienced employees that all are running around like chickens with their heads cut off ',\n",
              " 'very  very sad ',\n",
              " 'i felt insulted and disrespected  how could you talk and judge another human being like that ',\n",
              " 'how can you call yourself a steakhouse if you can t properly cook a steak  i don t understand ',\n",
              " 'i m not impressed with the concept or the food ',\n",
              " 'the only thing i wasn t too crazy about was their guacamole as i don t like it pur ed ',\n",
              " 'there is really nothing for me at postinos  hope your experience is better',\n",
              " 'i got food poisoning here at the buffet ',\n",
              " 'they brought a fresh batch of fries and i was thinking yay something warm but no ',\n",
              " 'what should have been a hilarious  yummy christmas eve dinner to remember was the biggest fail of the entire trip for us ',\n",
              " 'needless to say  i won t be going back anytime soon ',\n",
              " 'this place is disgusting ',\n",
              " 'every time i eat here  i see caring teamwork to a professional degree ',\n",
              " 'the ri style calamari was a joke ',\n",
              " 'however  there was so much garlic in the fondue  it was barely edible ',\n",
              " 'i could barely stomach the meal  but didn t complain because it was a business lunch ',\n",
              " 'it was so bad  i had lost the heart to finish it ',\n",
              " 'it also took her forever to bring us the check when we asked for it ',\n",
              " 'we aren t ones to make a scene at restaurants but i just don t get it   definitely lost the love after this one ',\n",
              " 'disappointing experience ',\n",
              " 'the food is about on par with denny s  which is to say  not good at all ',\n",
              " 'if you want to wait for mediocre food and downright terrible service  then this is the place for you ',\n",
              " 'waaaaaayyyyyyyyyy over rated is all i am saying ',\n",
              " 'we won t be going back ',\n",
              " 'the place was fairly clean but the food simply wasn t worth it ',\n",
              " 'this place lacked style  ',\n",
              " 'the sangria was about half of a glass wine full and was      ridiculous ',\n",
              " 'don t bother coming here ',\n",
              " 'the meat was pretty dry  i had the sliced brisket and pulled pork ',\n",
              " 'the building itself seems pretty neat  the bathroom is pretty trippy  but i wouldn t eat here again ',\n",
              " 'it was equally awful ',\n",
              " 'probably not in a hurry to go back ',\n",
              " 'very slow at seating even with reservation ',\n",
              " 'not good by any stretch of the imagination ',\n",
              " 'the cashew cream sauce was bland and the vegetables were undercooked ',\n",
              " 'the chipolte ranch dipping sause was tasteless  seemed thin and watered down with no heat ',\n",
              " 'it was a bit too sweet  not really spicy enough  and lacked flavor ',\n",
              " 'i was very disappointed  ',\n",
              " 'this place is horrible and way overpriced ',\n",
              " 'maybe it s just their vegetarian fare  but i ve been twice and i thought it was average at best ',\n",
              " 'it wasn t busy at all and now we know why ',\n",
              " 'the tables outside are also dirty a lot of the time and the workers are not always friendly and helpful with the menu ',\n",
              " 'the ambiance here did not feel like a buffet setting  but more of a douchey indoor garden for tea and biscuits ',\n",
              " 'con  spotty service ',\n",
              " 'the fries were not hot  and neither was my burger ',\n",
              " 'but then they came back cold ',\n",
              " 'then our food came out  disappointment ensued ',\n",
              " 'the real disappointment was our waiter ',\n",
              " 'my husband said she was very rude    did not even apologize for the bad food or anything ',\n",
              " 'the only reason to eat here would be to fill up before a night of binge drinking just to get some carbs in your stomach ',\n",
              " 'insults  profound deuchebaggery  and had to go outside for a smoke break while serving just to solidify it ',\n",
              " 'if someone orders two tacos don t  you think it may be part of customer service to ask if it is combo or ala cart ',\n",
              " 'she was quite disappointed although some blame needs to be placed at her door ',\n",
              " 'after all the rave reviews i couldn t wait to eat here      what a disappointment ',\n",
              " 'del taco is pretty nasty and should be avoided if possible ',\n",
              " 'it s not hard to make a decent hamburger ',\n",
              " 'but i don t like it ',\n",
              " 'hell no will i go back',\n",
              " 'we ve have gotten a much better service from the pizza place next door than the services we received from this restaurant ',\n",
              " 'i don t know what the big deal is about this place  but i won t be back  ya all  ',\n",
              " 'i immediately said i wanted to talk to the manager but i did not want to talk to the guy who was doing shots of fireball behind the bar ',\n",
              " 'the ambiance isn t much better ',\n",
              " 'unfortunately  it only set us up for disapppointment with our entrees ',\n",
              " 'the food wasn t good ',\n",
              " 'your servers suck  wait  correction  our server heimer sucked ',\n",
              " 'what happened next was pretty    off putting ',\n",
              " 'too bad cause i know it s family owned  i really wanted to like this place ',\n",
              " 'overpriced for what you are getting ',\n",
              " 'i vomited in the bathroom mid lunch ',\n",
              " 'i kept looking at the time and it had soon become    minutes  yet still no food ',\n",
              " 'i have been to very few places to eat that under no circumstances would i ever return to  and this tops the list ',\n",
              " 'we started with the tuna sashimi which was brownish in color and obviously wasn t fresh ',\n",
              " 'food was below average ',\n",
              " 'it sure does beat the nachos at the movies but i would expect a little bit more coming from a restaurant ',\n",
              " 'all in all  ha long bay was a bit of a flop ',\n",
              " 'the problem i have is that they charge        for a sandwich that is no bigger than a subway sub  which offers better and more amount of vegetables  ',\n",
              " 'shrimp  when i unwrapped it  i live only     a mile from brushfire  it was literally ice cold ',\n",
              " 'it lacked flavor  seemed undercooked  and dry ',\n",
              " 'it really is impressive that the place hasn t closed down ',\n",
              " 'i would avoid this place if you are staying in the mirage ',\n",
              " 'the refried beans that came with my meal were dried out and crusty and the food was bland ',\n",
              " 'spend your money and time some place else ',\n",
              " 'a lady at the table next to us found a live green caterpillar in her salad ',\n",
              " 'the presentation of the food was awful ',\n",
              " 'i can t tell you how disappointed i was ',\n",
              " 'i think food should have flavor and texture and both were lacking ',\n",
              " 'appetite instantly gone ',\n",
              " 'overall i was not impressed and would not go back ',\n",
              " 'the whole experience was underwhelming  and i think we ll just go to ninja sushi next time ',\n",
              " 'then  as if i hadn t wasted enough of my life there  they poured salt in the wound by drawing out the time it took to bring the check ']"
            ]
          },
          "metadata": {},
          "execution_count": 33
        }
      ]
    },
    {
      "cell_type": "code",
      "source": [
        "from sklearn.feature_extraction.text import CountVectorizer\n",
        "cv = CountVectorizer(max_features = 1500)\n",
        "X = cv.fit_transform(corpus).toarray()\n",
        "y = data.iloc[:,1].values"
      ],
      "metadata": {
        "id": "cI1iXqNCF6Vi"
      },
      "execution_count": null,
      "outputs": []
    },
    {
      "cell_type": "code",
      "source": [
        "from sklearn.model_selection import train_test_split\n",
        "X_train,X_test,y_train,y_test = train_test_split(X,y,test_size = 0.20, random_state = 0)\n"
      ],
      "metadata": {
        "id": "TSg1En_4tTqu"
      },
      "execution_count": null,
      "outputs": []
    },
    {
      "cell_type": "code",
      "source": [
        "X_train.shape,X_test.shape,y_test.shape,y_train.shape"
      ],
      "metadata": {
        "colab": {
          "base_uri": "https://localhost:8080/"
        },
        "id": "sjgHqpSNuK55",
        "outputId": "82f157dc-9257-48aa-c3d0-27a666620659"
      },
      "execution_count": null,
      "outputs": [
        {
          "output_type": "execute_result",
          "data": {
            "text/plain": [
              "((800, 1500), (200, 1500), (200,), (800,))"
            ]
          },
          "metadata": {},
          "execution_count": 36
        }
      ]
    },
    {
      "cell_type": "markdown",
      "source": [
        "Training the Models"
      ],
      "metadata": {
        "id": "0yv4_c6UAu9O"
      }
    },
    {
      "cell_type": "code",
      "source": [
        "from sklearn.naive_bayes import MultinomialNB\n",
        "\n",
        "classifier = MultinomialNB()\n",
        "classifier.fit(X_train,y_train)"
      ],
      "metadata": {
        "colab": {
          "base_uri": "https://localhost:8080/",
          "height": 74
        },
        "id": "42H4toNHuTmZ",
        "outputId": "50049c23-a618-4b17-ba98-37b35cd23cd8"
      },
      "execution_count": null,
      "outputs": [
        {
          "output_type": "execute_result",
          "data": {
            "text/plain": [
              "MultinomialNB()"
            ],
            "text/html": [
              "<style>#sk-container-id-5 {color: black;background-color: white;}#sk-container-id-5 pre{padding: 0;}#sk-container-id-5 div.sk-toggleable {background-color: white;}#sk-container-id-5 label.sk-toggleable__label {cursor: pointer;display: block;width: 100%;margin-bottom: 0;padding: 0.3em;box-sizing: border-box;text-align: center;}#sk-container-id-5 label.sk-toggleable__label-arrow:before {content: \"▸\";float: left;margin-right: 0.25em;color: #696969;}#sk-container-id-5 label.sk-toggleable__label-arrow:hover:before {color: black;}#sk-container-id-5 div.sk-estimator:hover label.sk-toggleable__label-arrow:before {color: black;}#sk-container-id-5 div.sk-toggleable__content {max-height: 0;max-width: 0;overflow: hidden;text-align: left;background-color: #f0f8ff;}#sk-container-id-5 div.sk-toggleable__content pre {margin: 0.2em;color: black;border-radius: 0.25em;background-color: #f0f8ff;}#sk-container-id-5 input.sk-toggleable__control:checked~div.sk-toggleable__content {max-height: 200px;max-width: 100%;overflow: auto;}#sk-container-id-5 input.sk-toggleable__control:checked~label.sk-toggleable__label-arrow:before {content: \"▾\";}#sk-container-id-5 div.sk-estimator input.sk-toggleable__control:checked~label.sk-toggleable__label {background-color: #d4ebff;}#sk-container-id-5 div.sk-label input.sk-toggleable__control:checked~label.sk-toggleable__label {background-color: #d4ebff;}#sk-container-id-5 input.sk-hidden--visually {border: 0;clip: rect(1px 1px 1px 1px);clip: rect(1px, 1px, 1px, 1px);height: 1px;margin: -1px;overflow: hidden;padding: 0;position: absolute;width: 1px;}#sk-container-id-5 div.sk-estimator {font-family: monospace;background-color: #f0f8ff;border: 1px dotted black;border-radius: 0.25em;box-sizing: border-box;margin-bottom: 0.5em;}#sk-container-id-5 div.sk-estimator:hover {background-color: #d4ebff;}#sk-container-id-5 div.sk-parallel-item::after {content: \"\";width: 100%;border-bottom: 1px solid gray;flex-grow: 1;}#sk-container-id-5 div.sk-label:hover label.sk-toggleable__label {background-color: #d4ebff;}#sk-container-id-5 div.sk-serial::before {content: \"\";position: absolute;border-left: 1px solid gray;box-sizing: border-box;top: 0;bottom: 0;left: 50%;z-index: 0;}#sk-container-id-5 div.sk-serial {display: flex;flex-direction: column;align-items: center;background-color: white;padding-right: 0.2em;padding-left: 0.2em;position: relative;}#sk-container-id-5 div.sk-item {position: relative;z-index: 1;}#sk-container-id-5 div.sk-parallel {display: flex;align-items: stretch;justify-content: center;background-color: white;position: relative;}#sk-container-id-5 div.sk-item::before, #sk-container-id-5 div.sk-parallel-item::before {content: \"\";position: absolute;border-left: 1px solid gray;box-sizing: border-box;top: 0;bottom: 0;left: 50%;z-index: -1;}#sk-container-id-5 div.sk-parallel-item {display: flex;flex-direction: column;z-index: 1;position: relative;background-color: white;}#sk-container-id-5 div.sk-parallel-item:first-child::after {align-self: flex-end;width: 50%;}#sk-container-id-5 div.sk-parallel-item:last-child::after {align-self: flex-start;width: 50%;}#sk-container-id-5 div.sk-parallel-item:only-child::after {width: 0;}#sk-container-id-5 div.sk-dashed-wrapped {border: 1px dashed gray;margin: 0 0.4em 0.5em 0.4em;box-sizing: border-box;padding-bottom: 0.4em;background-color: white;}#sk-container-id-5 div.sk-label label {font-family: monospace;font-weight: bold;display: inline-block;line-height: 1.2em;}#sk-container-id-5 div.sk-label-container {text-align: center;}#sk-container-id-5 div.sk-container {/* jupyter's `normalize.less` sets `[hidden] { display: none; }` but bootstrap.min.css set `[hidden] { display: none !important; }` so we also need the `!important` here to be able to override the default hidden behavior on the sphinx rendered scikit-learn.org. See: https://github.com/scikit-learn/scikit-learn/issues/21755 */display: inline-block !important;position: relative;}#sk-container-id-5 div.sk-text-repr-fallback {display: none;}</style><div id=\"sk-container-id-5\" class=\"sk-top-container\"><div class=\"sk-text-repr-fallback\"><pre>MultinomialNB()</pre><b>In a Jupyter environment, please rerun this cell to show the HTML representation or trust the notebook. <br />On GitHub, the HTML representation is unable to render, please try loading this page with nbviewer.org.</b></div><div class=\"sk-container\" hidden><div class=\"sk-item\"><div class=\"sk-estimator sk-toggleable\"><input class=\"sk-toggleable__control sk-hidden--visually\" id=\"sk-estimator-id-5\" type=\"checkbox\" checked><label for=\"sk-estimator-id-5\" class=\"sk-toggleable__label sk-toggleable__label-arrow\">MultinomialNB</label><div class=\"sk-toggleable__content\"><pre>MultinomialNB()</pre></div></div></div></div></div>"
            ]
          },
          "metadata": {},
          "execution_count": 39
        }
      ]
    },
    {
      "cell_type": "code",
      "source": [
        "from sklearn.ensemble import RandomForestClassifier\n",
        "\n",
        "# Create a Random Forest Classifier\n",
        "rf_classifier = RandomForestClassifier(n_estimators=100, random_state=42)  # You can adjust the number of estimators as needed\n",
        "\n",
        "# Fit the classifier to your training data\n",
        "rf_classifier.fit(X_train, y_train)\n"
      ],
      "metadata": {
        "colab": {
          "base_uri": "https://localhost:8080/",
          "height": 74
        },
        "id": "RDfxgi9IHwhQ",
        "outputId": "4b5dd88f-92da-4752-a055-30647eb8604f"
      },
      "execution_count": null,
      "outputs": [
        {
          "output_type": "execute_result",
          "data": {
            "text/plain": [
              "RandomForestClassifier(random_state=42)"
            ],
            "text/html": [
              "<style>#sk-container-id-6 {color: black;background-color: white;}#sk-container-id-6 pre{padding: 0;}#sk-container-id-6 div.sk-toggleable {background-color: white;}#sk-container-id-6 label.sk-toggleable__label {cursor: pointer;display: block;width: 100%;margin-bottom: 0;padding: 0.3em;box-sizing: border-box;text-align: center;}#sk-container-id-6 label.sk-toggleable__label-arrow:before {content: \"▸\";float: left;margin-right: 0.25em;color: #696969;}#sk-container-id-6 label.sk-toggleable__label-arrow:hover:before {color: black;}#sk-container-id-6 div.sk-estimator:hover label.sk-toggleable__label-arrow:before {color: black;}#sk-container-id-6 div.sk-toggleable__content {max-height: 0;max-width: 0;overflow: hidden;text-align: left;background-color: #f0f8ff;}#sk-container-id-6 div.sk-toggleable__content pre {margin: 0.2em;color: black;border-radius: 0.25em;background-color: #f0f8ff;}#sk-container-id-6 input.sk-toggleable__control:checked~div.sk-toggleable__content {max-height: 200px;max-width: 100%;overflow: auto;}#sk-container-id-6 input.sk-toggleable__control:checked~label.sk-toggleable__label-arrow:before {content: \"▾\";}#sk-container-id-6 div.sk-estimator input.sk-toggleable__control:checked~label.sk-toggleable__label {background-color: #d4ebff;}#sk-container-id-6 div.sk-label input.sk-toggleable__control:checked~label.sk-toggleable__label {background-color: #d4ebff;}#sk-container-id-6 input.sk-hidden--visually {border: 0;clip: rect(1px 1px 1px 1px);clip: rect(1px, 1px, 1px, 1px);height: 1px;margin: -1px;overflow: hidden;padding: 0;position: absolute;width: 1px;}#sk-container-id-6 div.sk-estimator {font-family: monospace;background-color: #f0f8ff;border: 1px dotted black;border-radius: 0.25em;box-sizing: border-box;margin-bottom: 0.5em;}#sk-container-id-6 div.sk-estimator:hover {background-color: #d4ebff;}#sk-container-id-6 div.sk-parallel-item::after {content: \"\";width: 100%;border-bottom: 1px solid gray;flex-grow: 1;}#sk-container-id-6 div.sk-label:hover label.sk-toggleable__label {background-color: #d4ebff;}#sk-container-id-6 div.sk-serial::before {content: \"\";position: absolute;border-left: 1px solid gray;box-sizing: border-box;top: 0;bottom: 0;left: 50%;z-index: 0;}#sk-container-id-6 div.sk-serial {display: flex;flex-direction: column;align-items: center;background-color: white;padding-right: 0.2em;padding-left: 0.2em;position: relative;}#sk-container-id-6 div.sk-item {position: relative;z-index: 1;}#sk-container-id-6 div.sk-parallel {display: flex;align-items: stretch;justify-content: center;background-color: white;position: relative;}#sk-container-id-6 div.sk-item::before, #sk-container-id-6 div.sk-parallel-item::before {content: \"\";position: absolute;border-left: 1px solid gray;box-sizing: border-box;top: 0;bottom: 0;left: 50%;z-index: -1;}#sk-container-id-6 div.sk-parallel-item {display: flex;flex-direction: column;z-index: 1;position: relative;background-color: white;}#sk-container-id-6 div.sk-parallel-item:first-child::after {align-self: flex-end;width: 50%;}#sk-container-id-6 div.sk-parallel-item:last-child::after {align-self: flex-start;width: 50%;}#sk-container-id-6 div.sk-parallel-item:only-child::after {width: 0;}#sk-container-id-6 div.sk-dashed-wrapped {border: 1px dashed gray;margin: 0 0.4em 0.5em 0.4em;box-sizing: border-box;padding-bottom: 0.4em;background-color: white;}#sk-container-id-6 div.sk-label label {font-family: monospace;font-weight: bold;display: inline-block;line-height: 1.2em;}#sk-container-id-6 div.sk-label-container {text-align: center;}#sk-container-id-6 div.sk-container {/* jupyter's `normalize.less` sets `[hidden] { display: none; }` but bootstrap.min.css set `[hidden] { display: none !important; }` so we also need the `!important` here to be able to override the default hidden behavior on the sphinx rendered scikit-learn.org. See: https://github.com/scikit-learn/scikit-learn/issues/21755 */display: inline-block !important;position: relative;}#sk-container-id-6 div.sk-text-repr-fallback {display: none;}</style><div id=\"sk-container-id-6\" class=\"sk-top-container\"><div class=\"sk-text-repr-fallback\"><pre>RandomForestClassifier(random_state=42)</pre><b>In a Jupyter environment, please rerun this cell to show the HTML representation or trust the notebook. <br />On GitHub, the HTML representation is unable to render, please try loading this page with nbviewer.org.</b></div><div class=\"sk-container\" hidden><div class=\"sk-item\"><div class=\"sk-estimator sk-toggleable\"><input class=\"sk-toggleable__control sk-hidden--visually\" id=\"sk-estimator-id-6\" type=\"checkbox\" checked><label for=\"sk-estimator-id-6\" class=\"sk-toggleable__label sk-toggleable__label-arrow\">RandomForestClassifier</label><div class=\"sk-toggleable__content\"><pre>RandomForestClassifier(random_state=42)</pre></div></div></div></div></div>"
            ]
          },
          "metadata": {},
          "execution_count": 40
        }
      ]
    },
    {
      "cell_type": "code",
      "source": [
        "import xgboost as xgb\n",
        "\n",
        "# Create an XGBoost Classifier\n",
        "xgb_classifier = xgb.XGBClassifier(n_estimators=100, random_state=42)  # You can adjust hyperparameters as needed\n",
        "\n",
        "# Fit the classifier to your training data\n",
        "xgb_classifier.fit(X_train, y_train)\n"
      ],
      "metadata": {
        "colab": {
          "base_uri": "https://localhost:8080/",
          "height": 248
        },
        "id": "zq22gKknQk36",
        "outputId": "6391f01a-30dc-40a8-a4e8-e1e6d2b24c15"
      },
      "execution_count": null,
      "outputs": [
        {
          "output_type": "execute_result",
          "data": {
            "text/plain": [
              "XGBClassifier(base_score=None, booster=None, callbacks=None,\n",
              "              colsample_bylevel=None, colsample_bynode=None,\n",
              "              colsample_bytree=None, early_stopping_rounds=None,\n",
              "              enable_categorical=False, eval_metric=None, feature_types=None,\n",
              "              gamma=None, gpu_id=None, grow_policy=None, importance_type=None,\n",
              "              interaction_constraints=None, learning_rate=None, max_bin=None,\n",
              "              max_cat_threshold=None, max_cat_to_onehot=None,\n",
              "              max_delta_step=None, max_depth=None, max_leaves=None,\n",
              "              min_child_weight=None, missing=nan, monotone_constraints=None,\n",
              "              n_estimators=100, n_jobs=None, num_parallel_tree=None,\n",
              "              predictor=None, random_state=42, ...)"
            ],
            "text/html": [
              "<style>#sk-container-id-7 {color: black;background-color: white;}#sk-container-id-7 pre{padding: 0;}#sk-container-id-7 div.sk-toggleable {background-color: white;}#sk-container-id-7 label.sk-toggleable__label {cursor: pointer;display: block;width: 100%;margin-bottom: 0;padding: 0.3em;box-sizing: border-box;text-align: center;}#sk-container-id-7 label.sk-toggleable__label-arrow:before {content: \"▸\";float: left;margin-right: 0.25em;color: #696969;}#sk-container-id-7 label.sk-toggleable__label-arrow:hover:before {color: black;}#sk-container-id-7 div.sk-estimator:hover label.sk-toggleable__label-arrow:before {color: black;}#sk-container-id-7 div.sk-toggleable__content {max-height: 0;max-width: 0;overflow: hidden;text-align: left;background-color: #f0f8ff;}#sk-container-id-7 div.sk-toggleable__content pre {margin: 0.2em;color: black;border-radius: 0.25em;background-color: #f0f8ff;}#sk-container-id-7 input.sk-toggleable__control:checked~div.sk-toggleable__content {max-height: 200px;max-width: 100%;overflow: auto;}#sk-container-id-7 input.sk-toggleable__control:checked~label.sk-toggleable__label-arrow:before {content: \"▾\";}#sk-container-id-7 div.sk-estimator input.sk-toggleable__control:checked~label.sk-toggleable__label {background-color: #d4ebff;}#sk-container-id-7 div.sk-label input.sk-toggleable__control:checked~label.sk-toggleable__label {background-color: #d4ebff;}#sk-container-id-7 input.sk-hidden--visually {border: 0;clip: rect(1px 1px 1px 1px);clip: rect(1px, 1px, 1px, 1px);height: 1px;margin: -1px;overflow: hidden;padding: 0;position: absolute;width: 1px;}#sk-container-id-7 div.sk-estimator {font-family: monospace;background-color: #f0f8ff;border: 1px dotted black;border-radius: 0.25em;box-sizing: border-box;margin-bottom: 0.5em;}#sk-container-id-7 div.sk-estimator:hover {background-color: #d4ebff;}#sk-container-id-7 div.sk-parallel-item::after {content: \"\";width: 100%;border-bottom: 1px solid gray;flex-grow: 1;}#sk-container-id-7 div.sk-label:hover label.sk-toggleable__label {background-color: #d4ebff;}#sk-container-id-7 div.sk-serial::before {content: \"\";position: absolute;border-left: 1px solid gray;box-sizing: border-box;top: 0;bottom: 0;left: 50%;z-index: 0;}#sk-container-id-7 div.sk-serial {display: flex;flex-direction: column;align-items: center;background-color: white;padding-right: 0.2em;padding-left: 0.2em;position: relative;}#sk-container-id-7 div.sk-item {position: relative;z-index: 1;}#sk-container-id-7 div.sk-parallel {display: flex;align-items: stretch;justify-content: center;background-color: white;position: relative;}#sk-container-id-7 div.sk-item::before, #sk-container-id-7 div.sk-parallel-item::before {content: \"\";position: absolute;border-left: 1px solid gray;box-sizing: border-box;top: 0;bottom: 0;left: 50%;z-index: -1;}#sk-container-id-7 div.sk-parallel-item {display: flex;flex-direction: column;z-index: 1;position: relative;background-color: white;}#sk-container-id-7 div.sk-parallel-item:first-child::after {align-self: flex-end;width: 50%;}#sk-container-id-7 div.sk-parallel-item:last-child::after {align-self: flex-start;width: 50%;}#sk-container-id-7 div.sk-parallel-item:only-child::after {width: 0;}#sk-container-id-7 div.sk-dashed-wrapped {border: 1px dashed gray;margin: 0 0.4em 0.5em 0.4em;box-sizing: border-box;padding-bottom: 0.4em;background-color: white;}#sk-container-id-7 div.sk-label label {font-family: monospace;font-weight: bold;display: inline-block;line-height: 1.2em;}#sk-container-id-7 div.sk-label-container {text-align: center;}#sk-container-id-7 div.sk-container {/* jupyter's `normalize.less` sets `[hidden] { display: none; }` but bootstrap.min.css set `[hidden] { display: none !important; }` so we also need the `!important` here to be able to override the default hidden behavior on the sphinx rendered scikit-learn.org. See: https://github.com/scikit-learn/scikit-learn/issues/21755 */display: inline-block !important;position: relative;}#sk-container-id-7 div.sk-text-repr-fallback {display: none;}</style><div id=\"sk-container-id-7\" class=\"sk-top-container\"><div class=\"sk-text-repr-fallback\"><pre>XGBClassifier(base_score=None, booster=None, callbacks=None,\n",
              "              colsample_bylevel=None, colsample_bynode=None,\n",
              "              colsample_bytree=None, early_stopping_rounds=None,\n",
              "              enable_categorical=False, eval_metric=None, feature_types=None,\n",
              "              gamma=None, gpu_id=None, grow_policy=None, importance_type=None,\n",
              "              interaction_constraints=None, learning_rate=None, max_bin=None,\n",
              "              max_cat_threshold=None, max_cat_to_onehot=None,\n",
              "              max_delta_step=None, max_depth=None, max_leaves=None,\n",
              "              min_child_weight=None, missing=nan, monotone_constraints=None,\n",
              "              n_estimators=100, n_jobs=None, num_parallel_tree=None,\n",
              "              predictor=None, random_state=42, ...)</pre><b>In a Jupyter environment, please rerun this cell to show the HTML representation or trust the notebook. <br />On GitHub, the HTML representation is unable to render, please try loading this page with nbviewer.org.</b></div><div class=\"sk-container\" hidden><div class=\"sk-item\"><div class=\"sk-estimator sk-toggleable\"><input class=\"sk-toggleable__control sk-hidden--visually\" id=\"sk-estimator-id-7\" type=\"checkbox\" checked><label for=\"sk-estimator-id-7\" class=\"sk-toggleable__label sk-toggleable__label-arrow\">XGBClassifier</label><div class=\"sk-toggleable__content\"><pre>XGBClassifier(base_score=None, booster=None, callbacks=None,\n",
              "              colsample_bylevel=None, colsample_bynode=None,\n",
              "              colsample_bytree=None, early_stopping_rounds=None,\n",
              "              enable_categorical=False, eval_metric=None, feature_types=None,\n",
              "              gamma=None, gpu_id=None, grow_policy=None, importance_type=None,\n",
              "              interaction_constraints=None, learning_rate=None, max_bin=None,\n",
              "              max_cat_threshold=None, max_cat_to_onehot=None,\n",
              "              max_delta_step=None, max_depth=None, max_leaves=None,\n",
              "              min_child_weight=None, missing=nan, monotone_constraints=None,\n",
              "              n_estimators=100, n_jobs=None, num_parallel_tree=None,\n",
              "              predictor=None, random_state=42, ...)</pre></div></div></div></div></div>"
            ]
          },
          "metadata": {},
          "execution_count": 41
        }
      ]
    },
    {
      "cell_type": "code",
      "source": [
        "from sklearn.linear_model import LogisticRegression\n",
        "\n",
        "# Create a Logistic Regression Classifier\n",
        "logistic_classifier = LogisticRegression(random_state=42)  # You can adjust hyperparameters as needed\n",
        "\n",
        "# Fit the classifier to your training data\n",
        "logistic_classifier.fit(X_train, y_train)\n"
      ],
      "metadata": {
        "colab": {
          "base_uri": "https://localhost:8080/",
          "height": 74
        },
        "id": "LIxGHV7YQllo",
        "outputId": "afd6f684-9abd-4bf4-fe5f-8bd6703d1bec"
      },
      "execution_count": null,
      "outputs": [
        {
          "output_type": "execute_result",
          "data": {
            "text/plain": [
              "LogisticRegression(random_state=42)"
            ],
            "text/html": [
              "<style>#sk-container-id-8 {color: black;background-color: white;}#sk-container-id-8 pre{padding: 0;}#sk-container-id-8 div.sk-toggleable {background-color: white;}#sk-container-id-8 label.sk-toggleable__label {cursor: pointer;display: block;width: 100%;margin-bottom: 0;padding: 0.3em;box-sizing: border-box;text-align: center;}#sk-container-id-8 label.sk-toggleable__label-arrow:before {content: \"▸\";float: left;margin-right: 0.25em;color: #696969;}#sk-container-id-8 label.sk-toggleable__label-arrow:hover:before {color: black;}#sk-container-id-8 div.sk-estimator:hover label.sk-toggleable__label-arrow:before {color: black;}#sk-container-id-8 div.sk-toggleable__content {max-height: 0;max-width: 0;overflow: hidden;text-align: left;background-color: #f0f8ff;}#sk-container-id-8 div.sk-toggleable__content pre {margin: 0.2em;color: black;border-radius: 0.25em;background-color: #f0f8ff;}#sk-container-id-8 input.sk-toggleable__control:checked~div.sk-toggleable__content {max-height: 200px;max-width: 100%;overflow: auto;}#sk-container-id-8 input.sk-toggleable__control:checked~label.sk-toggleable__label-arrow:before {content: \"▾\";}#sk-container-id-8 div.sk-estimator input.sk-toggleable__control:checked~label.sk-toggleable__label {background-color: #d4ebff;}#sk-container-id-8 div.sk-label input.sk-toggleable__control:checked~label.sk-toggleable__label {background-color: #d4ebff;}#sk-container-id-8 input.sk-hidden--visually {border: 0;clip: rect(1px 1px 1px 1px);clip: rect(1px, 1px, 1px, 1px);height: 1px;margin: -1px;overflow: hidden;padding: 0;position: absolute;width: 1px;}#sk-container-id-8 div.sk-estimator {font-family: monospace;background-color: #f0f8ff;border: 1px dotted black;border-radius: 0.25em;box-sizing: border-box;margin-bottom: 0.5em;}#sk-container-id-8 div.sk-estimator:hover {background-color: #d4ebff;}#sk-container-id-8 div.sk-parallel-item::after {content: \"\";width: 100%;border-bottom: 1px solid gray;flex-grow: 1;}#sk-container-id-8 div.sk-label:hover label.sk-toggleable__label {background-color: #d4ebff;}#sk-container-id-8 div.sk-serial::before {content: \"\";position: absolute;border-left: 1px solid gray;box-sizing: border-box;top: 0;bottom: 0;left: 50%;z-index: 0;}#sk-container-id-8 div.sk-serial {display: flex;flex-direction: column;align-items: center;background-color: white;padding-right: 0.2em;padding-left: 0.2em;position: relative;}#sk-container-id-8 div.sk-item {position: relative;z-index: 1;}#sk-container-id-8 div.sk-parallel {display: flex;align-items: stretch;justify-content: center;background-color: white;position: relative;}#sk-container-id-8 div.sk-item::before, #sk-container-id-8 div.sk-parallel-item::before {content: \"\";position: absolute;border-left: 1px solid gray;box-sizing: border-box;top: 0;bottom: 0;left: 50%;z-index: -1;}#sk-container-id-8 div.sk-parallel-item {display: flex;flex-direction: column;z-index: 1;position: relative;background-color: white;}#sk-container-id-8 div.sk-parallel-item:first-child::after {align-self: flex-end;width: 50%;}#sk-container-id-8 div.sk-parallel-item:last-child::after {align-self: flex-start;width: 50%;}#sk-container-id-8 div.sk-parallel-item:only-child::after {width: 0;}#sk-container-id-8 div.sk-dashed-wrapped {border: 1px dashed gray;margin: 0 0.4em 0.5em 0.4em;box-sizing: border-box;padding-bottom: 0.4em;background-color: white;}#sk-container-id-8 div.sk-label label {font-family: monospace;font-weight: bold;display: inline-block;line-height: 1.2em;}#sk-container-id-8 div.sk-label-container {text-align: center;}#sk-container-id-8 div.sk-container {/* jupyter's `normalize.less` sets `[hidden] { display: none; }` but bootstrap.min.css set `[hidden] { display: none !important; }` so we also need the `!important` here to be able to override the default hidden behavior on the sphinx rendered scikit-learn.org. See: https://github.com/scikit-learn/scikit-learn/issues/21755 */display: inline-block !important;position: relative;}#sk-container-id-8 div.sk-text-repr-fallback {display: none;}</style><div id=\"sk-container-id-8\" class=\"sk-top-container\"><div class=\"sk-text-repr-fallback\"><pre>LogisticRegression(random_state=42)</pre><b>In a Jupyter environment, please rerun this cell to show the HTML representation or trust the notebook. <br />On GitHub, the HTML representation is unable to render, please try loading this page with nbviewer.org.</b></div><div class=\"sk-container\" hidden><div class=\"sk-item\"><div class=\"sk-estimator sk-toggleable\"><input class=\"sk-toggleable__control sk-hidden--visually\" id=\"sk-estimator-id-8\" type=\"checkbox\" checked><label for=\"sk-estimator-id-8\" class=\"sk-toggleable__label sk-toggleable__label-arrow\">LogisticRegression</label><div class=\"sk-toggleable__content\"><pre>LogisticRegression(random_state=42)</pre></div></div></div></div></div>"
            ]
          },
          "metadata": {},
          "execution_count": 42
        }
      ]
    },
    {
      "cell_type": "markdown",
      "source": [
        "Generating the predictions"
      ],
      "metadata": {
        "id": "_UXuiX6dAzHJ"
      }
    },
    {
      "cell_type": "code",
      "source": [
        "y_pred = classifier.predict(X_test)\n",
        "\n",
        "y_pred"
      ],
      "metadata": {
        "colab": {
          "base_uri": "https://localhost:8080/"
        },
        "id": "T2c3Nuv_5FXe",
        "outputId": "8aa62b02-f886-4e7b-f029-ec36921d157a"
      },
      "execution_count": null,
      "outputs": [
        {
          "output_type": "execute_result",
          "data": {
            "text/plain": [
              "array([0, 0, 0, 0, 0, 0, 1, 0, 0, 1, 1, 1, 0, 1, 1, 1, 0, 0, 0, 1, 0, 0,\n",
              "       1, 0, 1, 1, 0, 1, 1, 0, 1, 1, 1, 0, 1, 0, 0, 1, 1, 1, 1, 1, 0, 0,\n",
              "       0, 0, 0, 0, 1, 1, 1, 1, 1, 1, 0, 0, 1, 1, 0, 1, 1, 0, 1, 1, 0, 1,\n",
              "       1, 0, 1, 0, 1, 1, 1, 0, 0, 0, 0, 1, 0, 1, 0, 1, 1, 0, 1, 1, 1, 0,\n",
              "       1, 1, 0, 1, 0, 0, 0, 1, 1, 0, 1, 0, 0, 1, 1, 1, 0, 1, 1, 1, 0, 0,\n",
              "       0, 1, 0, 1, 1, 0, 1, 1, 1, 1, 1, 1, 1, 0, 0, 0, 1, 0, 0, 0, 0, 1,\n",
              "       0, 0, 1, 1, 1, 1, 1, 0, 0, 1, 1, 0, 0, 0, 0, 0, 1, 0, 1, 0, 1, 1,\n",
              "       0, 0, 1, 1, 1, 1, 0, 0, 1, 1, 0, 0, 1, 0, 0, 0, 0, 1, 1, 0, 1, 1,\n",
              "       0, 1, 0, 0, 1, 0, 0, 0, 0, 1, 0, 1, 0, 1, 1, 0, 1, 0, 1, 0, 1, 1,\n",
              "       0, 1])"
            ]
          },
          "metadata": {},
          "execution_count": 43
        }
      ]
    },
    {
      "cell_type": "code",
      "source": [
        "y_pred_rf = rf_classifier.predict(X_test)\n",
        "\n",
        "y_pred_rf"
      ],
      "metadata": {
        "colab": {
          "base_uri": "https://localhost:8080/"
        },
        "id": "2xvLY7nWSGI7",
        "outputId": "65f0dfc5-8ef3-40a4-b873-e0177d716404"
      },
      "execution_count": null,
      "outputs": [
        {
          "output_type": "execute_result",
          "data": {
            "text/plain": [
              "array([0, 0, 0, 0, 1, 0, 1, 0, 0, 1, 1, 1, 0, 1, 1, 1, 0, 0, 0, 1, 0, 1,\n",
              "       1, 0, 0, 1, 0, 1, 1, 0, 1, 0, 0, 0, 1, 0, 0, 0, 0, 1, 1, 0, 1, 1,\n",
              "       0, 0, 1, 1, 1, 0, 1, 1, 0, 1, 0, 1, 1, 0, 0, 1, 0, 0, 0, 0, 1, 0,\n",
              "       1, 0, 1, 0, 1, 1, 1, 0, 0, 0, 0, 1, 0, 0, 0, 1, 1, 0, 0, 1, 1, 0,\n",
              "       1, 0, 0, 1, 0, 0, 0, 0, 1, 0, 1, 0, 0, 0, 1, 0, 1, 1, 1, 1, 0, 0,\n",
              "       0, 1, 0, 1, 0, 0, 1, 0, 1, 0, 0, 1, 1, 0, 0, 0, 1, 0, 0, 0, 1, 1,\n",
              "       0, 0, 1, 1, 1, 1, 1, 0, 1, 1, 0, 0, 0, 0, 0, 0, 0, 1, 1, 1, 1, 1,\n",
              "       0, 0, 1, 0, 1, 0, 0, 0, 1, 0, 0, 0, 0, 0, 0, 0, 0, 1, 1, 0, 1, 0,\n",
              "       0, 1, 0, 0, 1, 0, 0, 0, 1, 0, 1, 1, 0, 1, 1, 0, 0, 1, 1, 0, 1, 1,\n",
              "       0, 0])"
            ]
          },
          "metadata": {},
          "execution_count": 44
        }
      ]
    },
    {
      "cell_type": "code",
      "source": [
        "y_pred_xgb = xgb_classifier.predict(X_test)\n",
        "\n",
        "y_pred_xgb"
      ],
      "metadata": {
        "colab": {
          "base_uri": "https://localhost:8080/"
        },
        "id": "EKo5JDb5SF_i",
        "outputId": "55cacd02-5298-407a-e039-492cfe070e6e"
      },
      "execution_count": null,
      "outputs": [
        {
          "output_type": "execute_result",
          "data": {
            "text/plain": [
              "array([0, 0, 0, 0, 0, 0, 1, 0, 0, 0, 1, 1, 0, 1, 1, 1, 0, 1, 0, 1, 0, 1,\n",
              "       1, 0, 0, 1, 0, 1, 1, 0, 0, 0, 0, 0, 1, 0, 0, 1, 0, 1, 1, 0, 0, 0,\n",
              "       0, 0, 0, 1, 1, 0, 1, 1, 1, 1, 0, 0, 1, 1, 0, 1, 0, 1, 0, 0, 0, 1,\n",
              "       1, 0, 1, 0, 1, 1, 1, 0, 0, 0, 0, 1, 0, 1, 0, 1, 1, 0, 1, 1, 0, 0,\n",
              "       1, 0, 1, 1, 0, 0, 0, 1, 0, 0, 1, 0, 0, 0, 1, 0, 1, 1, 1, 1, 0, 0,\n",
              "       0, 1, 0, 1, 0, 0, 1, 1, 1, 1, 0, 0, 1, 0, 0, 0, 1, 0, 0, 0, 0, 1,\n",
              "       0, 0, 1, 1, 1, 1, 1, 0, 1, 1, 1, 0, 0, 0, 0, 0, 0, 0, 1, 1, 1, 1,\n",
              "       0, 0, 1, 1, 1, 0, 0, 0, 1, 1, 1, 0, 0, 0, 0, 0, 0, 1, 1, 0, 0, 0,\n",
              "       0, 1, 0, 0, 1, 0, 0, 0, 1, 0, 1, 1, 0, 1, 1, 0, 0, 0, 1, 0, 1, 1,\n",
              "       0, 0])"
            ]
          },
          "metadata": {},
          "execution_count": 45
        }
      ]
    },
    {
      "cell_type": "code",
      "source": [
        "y_pred_logistic = logistic_classifier.predict(X_test)\n",
        "\n",
        "y_pred_logistic"
      ],
      "metadata": {
        "colab": {
          "base_uri": "https://localhost:8080/"
        },
        "id": "OqwFL9mESF1j",
        "outputId": "0154e4fa-796f-40f0-fdd4-80cc7639fcfb"
      },
      "execution_count": null,
      "outputs": [
        {
          "output_type": "execute_result",
          "data": {
            "text/plain": [
              "array([0, 0, 0, 0, 0, 0, 1, 0, 0, 1, 1, 1, 0, 1, 1, 1, 0, 0, 0, 1, 1, 1,\n",
              "       1, 0, 0, 1, 1, 1, 1, 0, 1, 0, 0, 0, 1, 0, 0, 0, 0, 1, 1, 1, 1, 0,\n",
              "       0, 0, 0, 1, 1, 0, 1, 1, 1, 1, 0, 0, 1, 1, 0, 1, 1, 0, 0, 1, 0, 1,\n",
              "       1, 0, 1, 0, 1, 1, 1, 0, 0, 0, 0, 1, 0, 1, 0, 1, 1, 0, 1, 1, 1, 0,\n",
              "       1, 0, 0, 1, 0, 0, 0, 1, 1, 1, 1, 0, 0, 0, 1, 0, 1, 0, 1, 1, 0, 0,\n",
              "       0, 1, 0, 1, 0, 0, 1, 1, 1, 1, 1, 1, 1, 0, 0, 0, 1, 0, 0, 0, 0, 1,\n",
              "       0, 0, 1, 1, 1, 1, 1, 0, 1, 1, 1, 0, 0, 0, 0, 0, 0, 1, 1, 0, 1, 1,\n",
              "       0, 0, 1, 1, 1, 0, 0, 0, 1, 1, 0, 0, 1, 0, 0, 0, 0, 1, 1, 0, 0, 0,\n",
              "       0, 1, 0, 0, 1, 1, 0, 1, 1, 0, 1, 1, 0, 1, 1, 0, 0, 0, 1, 0, 1, 1,\n",
              "       0, 1])"
            ]
          },
          "metadata": {},
          "execution_count": 46
        }
      ]
    },
    {
      "cell_type": "markdown",
      "source": [
        "Model Performances"
      ],
      "metadata": {
        "id": "1A5Loj-YBDQh"
      }
    },
    {
      "cell_type": "code",
      "source": [
        "from sklearn.metrics import accuracy_score\n",
        "from sklearn.metrics import precision_score\n",
        "from sklearn.metrics import recall_score\n",
        "\n",
        "score1 = accuracy_score(y_test,y_pred)\n",
        "score2 = precision_score(y_test,y_pred)\n",
        "score3 = recall_score(y_test,y_pred)\n",
        "\n",
        "score4 = accuracy_score(y_test,y_pred_rf)\n",
        "score5 = precision_score(y_test,y_pred_rf)\n",
        "score6 = recall_score(y_test,y_pred_rf)\n",
        "\n",
        "score7 = accuracy_score(y_test,y_pred_xgb)\n",
        "score8 = precision_score(y_test,y_pred_xgb)\n",
        "score9 = recall_score(y_test,y_pred_xgb)\n",
        "\n",
        "score1_1 = accuracy_score(y_test,y_pred_logistic)\n",
        "score2_1 = precision_score(y_test,y_pred_logistic)\n",
        "score3_1 = recall_score(y_test,y_pred_logistic)\n",
        "\n",
        "print(\"-----Scores-----\")\n",
        "print(\"-----Naive Bayes-----\")\n",
        "print(\"Accuracy score is {}%\".format(round(score1*100,2)))\n",
        "print(\"Precision score is {}%\".format(round(score2*100,2)))\n",
        "print(\"Recall score is {}%\".format(round(score3*100,2)))\n",
        "\n",
        "print(\"-----Scores-----\")\n",
        "print(\"-----Random Forest-----\")\n",
        "print(\"Accuracy score is {}%\".format(round(score4*100,2)))\n",
        "print(\"Precision score is {}%\".format(round(score5*100,2)))\n",
        "print(\"Recall score is {}%\".format(round(score6*100,2)))\n",
        "\n",
        "print(\"-----Scores-----\")\n",
        "print(\"-----XGBoost-----\")\n",
        "print(\"Accuracy score is {}%\".format(round(score7*100,2)))\n",
        "print(\"Precision score is {}%\".format(round(score8*100,2)))\n",
        "print(\"Recall score is {}%\".format(round(score9*100,2)))\n",
        "\n",
        "print(\"-----Scores-----\")\n",
        "print(\"-----Logistic-----\")\n",
        "print(\"Accuracy score is {}%\".format(round(score1_1*100,2)))\n",
        "print(\"Precision score is {}%\".format(round(score2_1*100,2)))\n",
        "print(\"Recall score is {}%\".format(round(score3_1*100,2)))"
      ],
      "metadata": {
        "colab": {
          "base_uri": "https://localhost:8080/"
        },
        "id": "4r8ccFBF5ZIq",
        "outputId": "00222e7f-48d0-4929-a240-d930018a78a9"
      },
      "execution_count": null,
      "outputs": [
        {
          "output_type": "stream",
          "name": "stdout",
          "text": [
            "-----Scores-----\n",
            "-----Naive Bayes-----\n",
            "Accuracy score is 79.5%\n",
            "Precision score is 79.81%\n",
            "Recall score is 80.58%\n",
            "-----Scores-----\n",
            "-----Random Forest-----\n",
            "Accuracy score is 76.0%\n",
            "Precision score is 81.61%\n",
            "Recall score is 68.93%\n",
            "-----Scores-----\n",
            "-----XGBoost-----\n",
            "Accuracy score is 80.5%\n",
            "Precision score is 86.36%\n",
            "Recall score is 73.79%\n",
            "-----Scores-----\n",
            "-----Logistic-----\n",
            "Accuracy score is 82.0%\n",
            "Precision score is 83.84%\n",
            "Recall score is 80.58%\n"
          ]
        }
      ]
    },
    {
      "cell_type": "code",
      "source": [
        "from sklearn.metrics import confusion_matrix\n",
        "cm = confusion_matrix(y_test,y_pred)\n",
        "cm"
      ],
      "metadata": {
        "colab": {
          "base_uri": "https://localhost:8080/"
        },
        "id": "AHYb_-Jw5unK",
        "outputId": "340d50c9-bc8e-498f-b154-aae2d4c55b36"
      },
      "execution_count": null,
      "outputs": [
        {
          "output_type": "execute_result",
          "data": {
            "text/plain": [
              "array([[76, 21],\n",
              "       [20, 83]])"
            ]
          },
          "metadata": {},
          "execution_count": 44
        }
      ]
    },
    {
      "cell_type": "markdown",
      "source": [
        "Plotting the Confusion Matrix"
      ],
      "metadata": {
        "id": "jU43v8J3BHvU"
      }
    },
    {
      "cell_type": "code",
      "source": [
        "import matplotlib.pyplot as plt\n",
        "import seaborn as sns\n",
        "%matplotlib inline\n",
        "\n",
        "plt.figure(figsize = (10,5))\n",
        "sns.heatmap(cm,annot = True, cmap = 'YlGnBu',xticklabels = ['Negative','Positive'], yticklabels = ['Negative','Positive'])\n",
        "plt.xlabel('Predicted Values')\n",
        "plt.ylabel('Actual Values')\n"
      ],
      "metadata": {
        "colab": {
          "base_uri": "https://localhost:8080/",
          "height": 482
        },
        "id": "LaDeZzRXBEk9",
        "outputId": "45da9861-a089-414a-9a05-89fdb13d3d63"
      },
      "execution_count": null,
      "outputs": [
        {
          "output_type": "execute_result",
          "data": {
            "text/plain": [
              "Text(95.72222222222221, 0.5, 'Actual Values')"
            ]
          },
          "metadata": {},
          "execution_count": 45
        },
        {
          "output_type": "display_data",
          "data": {
            "text/plain": [
              "<Figure size 1000x500 with 2 Axes>"
            ],
            "image/png": "[encoded data removed]"
          },
          "metadata": {}
        }
      ]
    },
    {
      "cell_type": "markdown",
      "source": [
        "Optimizing the alpha values"
      ],
      "metadata": {
        "id": "1x4AGYm6BLzM"
      }
    },
    {
      "cell_type": "code",
      "source": [
        "best_accuracy = 0.0\n",
        "alpha_val = 0.0\n",
        "for i in np.arange(0.1,1.1,0.1):\n",
        "  temp_classifier = MultinomialNB(alpha=i)\n",
        "  temp_classifier.fit(X_train,y_train)\n",
        "  temp_y_pred = temp_classifier.predict(X_test)\n",
        "  score = accuracy_score(y_test,temp_y_pred)\n",
        "  print(\"Accuracy score for alpha={} is {}%\".format(round(i,1), round(score*100,2)))\n",
        "  if score>best_accuracy:\n",
        "    best_accuracy = score\n",
        "    alpha_val = i\n",
        "print('--------------------------------')\n",
        "print('The best accuracy is {}% with alpha value as {}'.format(round(best_accuracy*100,2), round(alpha_val,1)))"
      ],
      "metadata": {
        "colab": {
          "base_uri": "https://localhost:8080/"
        },
        "id": "UmTLYKgjCJ29",
        "outputId": "d62a961b-c7dd-4c98-f93e-79d9a16f4fb8"
      },
      "execution_count": null,
      "outputs": [
        {
          "output_type": "stream",
          "name": "stdout",
          "text": [
            "Accuracy score for alpha=0.1 is 78.5%\n",
            "Accuracy score for alpha=0.2 is 78.5%\n",
            "Accuracy score for alpha=0.3 is 80.0%\n",
            "Accuracy score for alpha=0.4 is 80.5%\n",
            "Accuracy score for alpha=0.5 is 80.5%\n",
            "Accuracy score for alpha=0.6 is 80.5%\n",
            "Accuracy score for alpha=0.7 is 80.5%\n",
            "Accuracy score for alpha=0.8 is 80.0%\n",
            "Accuracy score for alpha=0.9 is 81.0%\n",
            "Accuracy score for alpha=1.0 is 79.5%\n",
            "--------------------------------\n",
            "The best accuracy is 81.0% with alpha value as 0.9\n"
          ]
        }
      ]
    },
    {
      "cell_type": "code",
      "source": [
        "classifier = MultinomialNB(alpha=0.2)\n",
        "classifier.fit(X_train,y_train)"
      ],
      "metadata": {
        "colab": {
          "base_uri": "https://localhost:8080/",
          "height": 74
        },
        "id": "YQb6zJMqJ5ky",
        "outputId": "80919417-5a07-4734-b7ce-6d14b74068fd"
      },
      "execution_count": null,
      "outputs": [
        {
          "output_type": "execute_result",
          "data": {
            "text/plain": [
              "MultinomialNB(alpha=0.2)"
            ],
            "text/html": [
              "<style>#sk-container-id-2 {color: black;background-color: white;}#sk-container-id-2 pre{padding: 0;}#sk-container-id-2 div.sk-toggleable {background-color: white;}#sk-container-id-2 label.sk-toggleable__label {cursor: pointer;display: block;width: 100%;margin-bottom: 0;padding: 0.3em;box-sizing: border-box;text-align: center;}#sk-container-id-2 label.sk-toggleable__label-arrow:before {content: \"▸\";float: left;margin-right: 0.25em;color: #696969;}#sk-container-id-2 label.sk-toggleable__label-arrow:hover:before {color: black;}#sk-container-id-2 div.sk-estimator:hover label.sk-toggleable__label-arrow:before {color: black;}#sk-container-id-2 div.sk-toggleable__content {max-height: 0;max-width: 0;overflow: hidden;text-align: left;background-color: #f0f8ff;}#sk-container-id-2 div.sk-toggleable__content pre {margin: 0.2em;color: black;border-radius: 0.25em;background-color: #f0f8ff;}#sk-container-id-2 input.sk-toggleable__control:checked~div.sk-toggleable__content {max-height: 200px;max-width: 100%;overflow: auto;}#sk-container-id-2 input.sk-toggleable__control:checked~label.sk-toggleable__label-arrow:before {content: \"▾\";}#sk-container-id-2 div.sk-estimator input.sk-toggleable__control:checked~label.sk-toggleable__label {background-color: #d4ebff;}#sk-container-id-2 div.sk-label input.sk-toggleable__control:checked~label.sk-toggleable__label {background-color: #d4ebff;}#sk-container-id-2 input.sk-hidden--visually {border: 0;clip: rect(1px 1px 1px 1px);clip: rect(1px, 1px, 1px, 1px);height: 1px;margin: -1px;overflow: hidden;padding: 0;position: absolute;width: 1px;}#sk-container-id-2 div.sk-estimator {font-family: monospace;background-color: #f0f8ff;border: 1px dotted black;border-radius: 0.25em;box-sizing: border-box;margin-bottom: 0.5em;}#sk-container-id-2 div.sk-estimator:hover {background-color: #d4ebff;}#sk-container-id-2 div.sk-parallel-item::after {content: \"\";width: 100%;border-bottom: 1px solid gray;flex-grow: 1;}#sk-container-id-2 div.sk-label:hover label.sk-toggleable__label {background-color: #d4ebff;}#sk-container-id-2 div.sk-serial::before {content: \"\";position: absolute;border-left: 1px solid gray;box-sizing: border-box;top: 0;bottom: 0;left: 50%;z-index: 0;}#sk-container-id-2 div.sk-serial {display: flex;flex-direction: column;align-items: center;background-color: white;padding-right: 0.2em;padding-left: 0.2em;position: relative;}#sk-container-id-2 div.sk-item {position: relative;z-index: 1;}#sk-container-id-2 div.sk-parallel {display: flex;align-items: stretch;justify-content: center;background-color: white;position: relative;}#sk-container-id-2 div.sk-item::before, #sk-container-id-2 div.sk-parallel-item::before {content: \"\";position: absolute;border-left: 1px solid gray;box-sizing: border-box;top: 0;bottom: 0;left: 50%;z-index: -1;}#sk-container-id-2 div.sk-parallel-item {display: flex;flex-direction: column;z-index: 1;position: relative;background-color: white;}#sk-container-id-2 div.sk-parallel-item:first-child::after {align-self: flex-end;width: 50%;}#sk-container-id-2 div.sk-parallel-item:last-child::after {align-self: flex-start;width: 50%;}#sk-container-id-2 div.sk-parallel-item:only-child::after {width: 0;}#sk-container-id-2 div.sk-dashed-wrapped {border: 1px dashed gray;margin: 0 0.4em 0.5em 0.4em;box-sizing: border-box;padding-bottom: 0.4em;background-color: white;}#sk-container-id-2 div.sk-label label {font-family: monospace;font-weight: bold;display: inline-block;line-height: 1.2em;}#sk-container-id-2 div.sk-label-container {text-align: center;}#sk-container-id-2 div.sk-container {/* jupyter's `normalize.less` sets `[hidden] { display: none; }` but bootstrap.min.css set `[hidden] { display: none !important; }` so we also need the `!important` here to be able to override the default hidden behavior on the sphinx rendered scikit-learn.org. See: https://github.com/scikit-learn/scikit-learn/issues/21755 */display: inline-block !important;position: relative;}#sk-container-id-2 div.sk-text-repr-fallback {display: none;}</style><div id=\"sk-container-id-2\" class=\"sk-top-container\"><div class=\"sk-text-repr-fallback\"><pre>MultinomialNB(alpha=0.2)</pre><b>In a Jupyter environment, please rerun this cell to show the HTML representation or trust the notebook. <br />On GitHub, the HTML representation is unable to render, please try loading this page with nbviewer.org.</b></div><div class=\"sk-container\" hidden><div class=\"sk-item\"><div class=\"sk-estimator sk-toggleable\"><input class=\"sk-toggleable__control sk-hidden--visually\" id=\"sk-estimator-id-2\" type=\"checkbox\" checked><label for=\"sk-estimator-id-2\" class=\"sk-toggleable__label sk-toggleable__label-arrow\">MultinomialNB</label><div class=\"sk-toggleable__content\"><pre>MultinomialNB(alpha=0.2)</pre></div></div></div></div></div>"
            ]
          },
          "metadata": {},
          "execution_count": 47
        }
      ]
    },
    {
      "cell_type": "markdown",
      "source": [
        "Predicting the model effeciency using sample reviews"
      ],
      "metadata": {
        "id": "FgVEX290BPtK"
      }
    },
    {
      "cell_type": "code",
      "source": [
        "def predict_sentiment(sample_review):\n",
        "  sample_review = re.sub(pattern='[^a-zA-Z]',repl=' ', string = sample_review)\n",
        "  sample_review = sample_review.lower()\n",
        "  sample_review_words = sample_review.split()\n",
        "  sample_review_words = [word for word in sample_review_words if not word in set(stopwords.words('english'))]\n",
        "  ps = PorterStemmer()\n",
        "  final_review = [ps.stem(word) for word in sample_review_words]\n",
        "  final_review = ' '.join(final_review)\n",
        "\n",
        "  temp = cv.transform([final_review]).toarray()\n",
        "  return classifier.predict(temp)"
      ],
      "metadata": {
        "id": "0VZT1CLlKNzr"
      },
      "execution_count": null,
      "outputs": []
    },
    {
      "cell_type": "code",
      "source": [
        "sample_review = 'The food is really bad.'\n",
        "\n",
        "if predict_sentiment(sample_review):\n",
        "  print('This is a POSITIVE review')\n",
        "else:\n",
        "  print('This is a NEGATIVE review!')"
      ],
      "metadata": {
        "colab": {
          "base_uri": "https://localhost:8080/"
        },
        "id": "0TC6auE-OANn",
        "outputId": "8ec87509-6a20-47b2-efde-6e3826c3d68c"
      },
      "execution_count": null,
      "outputs": [
        {
          "output_type": "stream",
          "name": "stdout",
          "text": [
            "This is a NEGATIVE review!\n"
          ]
        }
      ]
    },
    {
      "cell_type": "code",
      "source": [
        "sample_review = 'Food was pretty bad and the service very slow.'\n",
        "\n",
        "if predict_sentiment(sample_review):\n",
        "  print('This is a POSITIVE review')\n",
        "else:\n",
        "  print('This is a NEGATIVE review')"
      ],
      "metadata": {
        "colab": {
          "base_uri": "https://localhost:8080/"
        },
        "id": "XrCvw-XMOqaS",
        "outputId": "6fa7a830-f824-44ad-99d9-3e94936ceef0"
      },
      "execution_count": null,
      "outputs": [
        {
          "output_type": "stream",
          "name": "stdout",
          "text": [
            "This is a NEGATIVE review\n"
          ]
        }
      ]
    },
    {
      "cell_type": "code",
      "source": [
        "sample_review = 'Food was really tasty and it was worth it.'\n",
        "\n",
        "if predict_sentiment(sample_review):\n",
        "  print('This is a POSITIVE review')\n",
        "else:\n",
        "  print('This is a NEGATIVE review')"
      ],
      "metadata": {
        "colab": {
          "base_uri": "https://localhost:8080/"
        },
        "id": "gmAAG9DWQlOb",
        "outputId": "a47382b0-a2f0-4aa4-c8b4-36465fff4eb4"
      },
      "execution_count": null,
      "outputs": [
        {
          "output_type": "stream",
          "name": "stdout",
          "text": [
            "This is a POSITIVE review\n"
          ]
        }
      ]
    }
  ]
}